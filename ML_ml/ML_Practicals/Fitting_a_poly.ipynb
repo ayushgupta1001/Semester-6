{
 "cells": [
  {
   "cell_type": "code",
   "execution_count": 1,
   "id": "01136ff0",
   "metadata": {},
   "outputs": [],
   "source": [
    "import pandas as pd\n",
    "import numpy as np\n",
    "import matplotlib.pyplot as plt\n",
    "import seaborn as sns\n",
    "from sklearn import preprocessing, svm\n",
    "from sklearn.model_selection import train_test_split\n",
    "from sklearn.linear_model import LinearRegression"
   ]
  },
  {
   "cell_type": "code",
   "execution_count": 2,
   "id": "9db87692",
   "metadata": {},
   "outputs": [
    {
     "data": {
      "text/plain": [
       "array([-5. , -4.5, -4. , -3.5, -3. , -2.5, -2. , -1.5, -1. , -0.5,  0. ,\n",
       "        0.5,  1. ,  1.5,  2. ,  2.5,  3. ,  3.5,  4. ,  4.5])"
      ]
     },
     "execution_count": 2,
     "metadata": {},
     "output_type": "execute_result"
    }
   ],
   "source": [
    "x1 = np.arange(-5,5,0.5)\n",
    "x1"
   ]
  },
  {
   "cell_type": "code",
   "execution_count": 3,
   "id": "ae110fdd",
   "metadata": {},
   "outputs": [
    {
     "data": {
      "text/plain": [
       "array([25.  , 20.25, 16.  , 12.25,  9.  ,  6.25,  4.  ,  2.25,  1.  ,\n",
       "        0.25,  0.  ,  0.25,  1.  ,  2.25,  4.  ,  6.25,  9.  , 12.25,\n",
       "       16.  , 20.25])"
      ]
     },
     "execution_count": 3,
     "metadata": {},
     "output_type": "execute_result"
    }
   ],
   "source": [
    "y = np.power(x1,2)\n",
    "y"
   ]
  },
  {
   "cell_type": "code",
   "execution_count": 4,
   "id": "56e1ad95",
   "metadata": {},
   "outputs": [
    {
     "data": {
      "text/plain": [
       "array([-4.4095252 ,  0.28142262,  0.34840661,  4.34182095,  1.22028973,\n",
       "       -2.50799241,  3.38227342,  0.62772971, -1.0420768 ,  0.41450365,\n",
       "        0.50092729, -0.92136323,  3.58438205, -1.35151812, -3.11420065,\n",
       "       -5.09027946,  1.05093236,  0.38939024, -0.84988351, -2.43446648])"
      ]
     },
     "execution_count": 4,
     "metadata": {},
     "output_type": "execute_result"
    }
   ],
   "source": [
    "y_noise = 3*np.random.normal(size=x1.size)\n",
    "y_noise"
   ]
  },
  {
   "cell_type": "code",
   "execution_count": 5,
   "id": "4a43a857",
   "metadata": {},
   "outputs": [
    {
     "data": {
      "text/plain": [
       "array([20.5904748 , 20.53142262, 16.34840661, 16.59182095, 10.22028973,\n",
       "        3.74200759,  7.38227342,  2.87772971, -0.0420768 ,  0.66450365,\n",
       "        0.50092729, -0.67136323,  4.58438205,  0.89848188,  0.88579935,\n",
       "        1.15972054, 10.05093236, 12.63939024, 15.15011649, 17.81553352])"
      ]
     },
     "execution_count": 5,
     "metadata": {},
     "output_type": "execute_result"
    }
   ],
   "source": [
    "y = y + y_noise\n",
    "y"
   ]
  },
  {
   "cell_type": "code",
   "execution_count": 6,
   "id": "42031e77",
   "metadata": {},
   "outputs": [
    {
     "data": {
      "image/png": "[encoded data removed]",
      "text/plain": [
       "<Figure size 432x288 with 1 Axes>"
      ]
     },
     "metadata": {
      "needs_background": "light"
     },
     "output_type": "display_data"
    }
   ],
   "source": [
    "plt.scatter(x1,y)\n",
    "plt.show()"
   ]
  },
  {
   "cell_type": "code",
   "execution_count": 7,
   "id": "87bcf99c",
   "metadata": {},
   "outputs": [
    {
     "data": {
      "text/plain": [
       "array([[11.30425104],\n",
       "       [10.96654447],\n",
       "       [10.6288379 ],\n",
       "       [10.29113133],\n",
       "       [ 9.95342476],\n",
       "       [ 9.6157182 ],\n",
       "       [ 9.27801163],\n",
       "       [ 8.94030506],\n",
       "       [ 8.60259849],\n",
       "       [ 8.26489192],\n",
       "       [ 7.92718535],\n",
       "       [ 7.58947879],\n",
       "       [ 7.25177222],\n",
       "       [ 6.91406565],\n",
       "       [ 6.57635908],\n",
       "       [ 6.23865251],\n",
       "       [ 5.90094595],\n",
       "       [ 5.56323938],\n",
       "       [ 5.22553281],\n",
       "       [ 4.88782624]])"
      ]
     },
     "execution_count": 7,
     "metadata": {},
     "output_type": "execute_result"
    }
   ],
   "source": [
    "model = LinearRegression().fit(x1.reshape(-1,1),y.reshape(-1,1))\n",
    "model\n",
    "\n",
    "y_pred = model.predict(x1.reshape(-1,1))\n",
    "y_pred"
   ]
  },
  {
   "cell_type": "code",
   "execution_count": 8,
   "id": "75a5f5dc",
   "metadata": {},
   "outputs": [
    {
     "data": {
      "text/plain": [
       "<matplotlib.collections.PathCollection at 0x270a88b83d0>"
      ]
     },
     "execution_count": 8,
     "metadata": {},
     "output_type": "execute_result"
    },
    {
     "data": {
      "image/png": "[encoded data removed]",
      "text/plain": [
       "<Figure size 432x288 with 1 Axes>"
      ]
     },
     "metadata": {
      "needs_background": "light"
     },
     "output_type": "display_data"
    }
   ],
   "source": [
    "# Fit a polynomial of degree 1\n",
    "z = np.polyfit(x1,y,1)\n",
    "p = np.poly1d(z)\n",
    "plt.plot(x1,p(x1),\"r--\")\n",
    "plt.scatter(x1,y)\n",
    "\n",
    "# Fit a polynomial of degree 2\n",
    "z = np.polyfit(x1,y,2)\n",
    "p = np.poly1d(z)\n",
    "plt.plot(x1,p(x1),\"b--\")\n",
    "plt.scatter(x1,y)\n",
    "\n",
    "# Fit a polynomial of degree 10\n",
    "z = np.polyfit(x1,y,10)\n",
    "p = np.poly1d(z)\n",
    "plt.plot(x1,p(x1),\"k--\")\n",
    "plt.scatter(x1,y)"
   ]
  },
  {
   "cell_type": "code",
   "execution_count": 9,
   "id": "7b0fe316",
   "metadata": {},
   "outputs": [
    {
     "data": {
      "text/html": [
       "<div>\n",
       "<style scoped>\n",
       "    .dataframe tbody tr th:only-of-type {\n",
       "        vertical-align: middle;\n",
       "    }\n",
       "\n",
       "    .dataframe tbody tr th {\n",
       "        vertical-align: top;\n",
       "    }\n",
       "\n",
       "    .dataframe thead th {\n",
       "        text-align: right;\n",
       "    }\n",
       "</style>\n",
       "<table border=\"1\" class=\"dataframe\">\n",
       "  <thead>\n",
       "    <tr style=\"text-align: right;\">\n",
       "      <th></th>\n",
       "      <th>y</th>\n",
       "      <th>x1</th>\n",
       "      <th>x2</th>\n",
       "      <th>x3</th>\n",
       "      <th>x4</th>\n",
       "      <th>x5</th>\n",
       "      <th>x6</th>\n",
       "      <th>x7</th>\n",
       "      <th>x8</th>\n",
       "      <th>x9</th>\n",
       "      <th>x10</th>\n",
       "    </tr>\n",
       "  </thead>\n",
       "  <tbody>\n",
       "    <tr>\n",
       "      <th>0</th>\n",
       "      <td>20.590475</td>\n",
       "      <td>-5.0</td>\n",
       "      <td>25.00</td>\n",
       "      <td>-125.000</td>\n",
       "      <td>625.0000</td>\n",
       "      <td>-3125.00000</td>\n",
       "      <td>15625.000000</td>\n",
       "      <td>-78125.000000</td>\n",
       "      <td>390625.000000</td>\n",
       "      <td>-1.953125e+06</td>\n",
       "      <td>9.765625e+06</td>\n",
       "    </tr>\n",
       "    <tr>\n",
       "      <th>1</th>\n",
       "      <td>20.531423</td>\n",
       "      <td>-4.5</td>\n",
       "      <td>20.25</td>\n",
       "      <td>-91.125</td>\n",
       "      <td>410.0625</td>\n",
       "      <td>-1845.28125</td>\n",
       "      <td>8303.765625</td>\n",
       "      <td>-37366.945312</td>\n",
       "      <td>168151.253906</td>\n",
       "      <td>-7.566806e+05</td>\n",
       "      <td>3.405063e+06</td>\n",
       "    </tr>\n",
       "    <tr>\n",
       "      <th>2</th>\n",
       "      <td>16.348407</td>\n",
       "      <td>-4.0</td>\n",
       "      <td>16.00</td>\n",
       "      <td>-64.000</td>\n",
       "      <td>256.0000</td>\n",
       "      <td>-1024.00000</td>\n",
       "      <td>4096.000000</td>\n",
       "      <td>-16384.000000</td>\n",
       "      <td>65536.000000</td>\n",
       "      <td>-2.621440e+05</td>\n",
       "      <td>1.048576e+06</td>\n",
       "    </tr>\n",
       "    <tr>\n",
       "      <th>3</th>\n",
       "      <td>16.591821</td>\n",
       "      <td>-3.5</td>\n",
       "      <td>12.25</td>\n",
       "      <td>-42.875</td>\n",
       "      <td>150.0625</td>\n",
       "      <td>-525.21875</td>\n",
       "      <td>1838.265625</td>\n",
       "      <td>-6433.929688</td>\n",
       "      <td>22518.753906</td>\n",
       "      <td>-7.881564e+04</td>\n",
       "      <td>2.758547e+05</td>\n",
       "    </tr>\n",
       "    <tr>\n",
       "      <th>4</th>\n",
       "      <td>10.220290</td>\n",
       "      <td>-3.0</td>\n",
       "      <td>9.00</td>\n",
       "      <td>-27.000</td>\n",
       "      <td>81.0000</td>\n",
       "      <td>-243.00000</td>\n",
       "      <td>729.000000</td>\n",
       "      <td>-2187.000000</td>\n",
       "      <td>6561.000000</td>\n",
       "      <td>-1.968300e+04</td>\n",
       "      <td>5.904900e+04</td>\n",
       "    </tr>\n",
       "    <tr>\n",
       "      <th>5</th>\n",
       "      <td>3.742008</td>\n",
       "      <td>-2.5</td>\n",
       "      <td>6.25</td>\n",
       "      <td>-15.625</td>\n",
       "      <td>39.0625</td>\n",
       "      <td>-97.65625</td>\n",
       "      <td>244.140625</td>\n",
       "      <td>-610.351562</td>\n",
       "      <td>1525.878906</td>\n",
       "      <td>-3.814697e+03</td>\n",
       "      <td>9.536743e+03</td>\n",
       "    </tr>\n",
       "    <tr>\n",
       "      <th>6</th>\n",
       "      <td>7.382273</td>\n",
       "      <td>-2.0</td>\n",
       "      <td>4.00</td>\n",
       "      <td>-8.000</td>\n",
       "      <td>16.0000</td>\n",
       "      <td>-32.00000</td>\n",
       "      <td>64.000000</td>\n",
       "      <td>-128.000000</td>\n",
       "      <td>256.000000</td>\n",
       "      <td>-5.120000e+02</td>\n",
       "      <td>1.024000e+03</td>\n",
       "    </tr>\n",
       "    <tr>\n",
       "      <th>7</th>\n",
       "      <td>2.877730</td>\n",
       "      <td>-1.5</td>\n",
       "      <td>2.25</td>\n",
       "      <td>-3.375</td>\n",
       "      <td>5.0625</td>\n",
       "      <td>-7.59375</td>\n",
       "      <td>11.390625</td>\n",
       "      <td>-17.085938</td>\n",
       "      <td>25.628906</td>\n",
       "      <td>-3.844336e+01</td>\n",
       "      <td>5.766504e+01</td>\n",
       "    </tr>\n",
       "    <tr>\n",
       "      <th>8</th>\n",
       "      <td>-0.042077</td>\n",
       "      <td>-1.0</td>\n",
       "      <td>1.00</td>\n",
       "      <td>-1.000</td>\n",
       "      <td>1.0000</td>\n",
       "      <td>-1.00000</td>\n",
       "      <td>1.000000</td>\n",
       "      <td>-1.000000</td>\n",
       "      <td>1.000000</td>\n",
       "      <td>-1.000000e+00</td>\n",
       "      <td>1.000000e+00</td>\n",
       "    </tr>\n",
       "    <tr>\n",
       "      <th>9</th>\n",
       "      <td>0.664504</td>\n",
       "      <td>-0.5</td>\n",
       "      <td>0.25</td>\n",
       "      <td>-0.125</td>\n",
       "      <td>0.0625</td>\n",
       "      <td>-0.03125</td>\n",
       "      <td>0.015625</td>\n",
       "      <td>-0.007812</td>\n",
       "      <td>0.003906</td>\n",
       "      <td>-1.953125e-03</td>\n",
       "      <td>9.765625e-04</td>\n",
       "    </tr>\n",
       "    <tr>\n",
       "      <th>10</th>\n",
       "      <td>0.500927</td>\n",
       "      <td>0.0</td>\n",
       "      <td>0.00</td>\n",
       "      <td>0.000</td>\n",
       "      <td>0.0000</td>\n",
       "      <td>0.00000</td>\n",
       "      <td>0.000000</td>\n",
       "      <td>0.000000</td>\n",
       "      <td>0.000000</td>\n",
       "      <td>0.000000e+00</td>\n",
       "      <td>0.000000e+00</td>\n",
       "    </tr>\n",
       "    <tr>\n",
       "      <th>11</th>\n",
       "      <td>-0.671363</td>\n",
       "      <td>0.5</td>\n",
       "      <td>0.25</td>\n",
       "      <td>0.125</td>\n",
       "      <td>0.0625</td>\n",
       "      <td>0.03125</td>\n",
       "      <td>0.015625</td>\n",
       "      <td>0.007812</td>\n",
       "      <td>0.003906</td>\n",
       "      <td>1.953125e-03</td>\n",
       "      <td>9.765625e-04</td>\n",
       "    </tr>\n",
       "    <tr>\n",
       "      <th>12</th>\n",
       "      <td>4.584382</td>\n",
       "      <td>1.0</td>\n",
       "      <td>1.00</td>\n",
       "      <td>1.000</td>\n",
       "      <td>1.0000</td>\n",
       "      <td>1.00000</td>\n",
       "      <td>1.000000</td>\n",
       "      <td>1.000000</td>\n",
       "      <td>1.000000</td>\n",
       "      <td>1.000000e+00</td>\n",
       "      <td>1.000000e+00</td>\n",
       "    </tr>\n",
       "    <tr>\n",
       "      <th>13</th>\n",
       "      <td>0.898482</td>\n",
       "      <td>1.5</td>\n",
       "      <td>2.25</td>\n",
       "      <td>3.375</td>\n",
       "      <td>5.0625</td>\n",
       "      <td>7.59375</td>\n",
       "      <td>11.390625</td>\n",
       "      <td>17.085938</td>\n",
       "      <td>25.628906</td>\n",
       "      <td>3.844336e+01</td>\n",
       "      <td>5.766504e+01</td>\n",
       "    </tr>\n",
       "    <tr>\n",
       "      <th>14</th>\n",
       "      <td>0.885799</td>\n",
       "      <td>2.0</td>\n",
       "      <td>4.00</td>\n",
       "      <td>8.000</td>\n",
       "      <td>16.0000</td>\n",
       "      <td>32.00000</td>\n",
       "      <td>64.000000</td>\n",
       "      <td>128.000000</td>\n",
       "      <td>256.000000</td>\n",
       "      <td>5.120000e+02</td>\n",
       "      <td>1.024000e+03</td>\n",
       "    </tr>\n",
       "    <tr>\n",
       "      <th>15</th>\n",
       "      <td>1.159721</td>\n",
       "      <td>2.5</td>\n",
       "      <td>6.25</td>\n",
       "      <td>15.625</td>\n",
       "      <td>39.0625</td>\n",
       "      <td>97.65625</td>\n",
       "      <td>244.140625</td>\n",
       "      <td>610.351562</td>\n",
       "      <td>1525.878906</td>\n",
       "      <td>3.814697e+03</td>\n",
       "      <td>9.536743e+03</td>\n",
       "    </tr>\n",
       "    <tr>\n",
       "      <th>16</th>\n",
       "      <td>10.050932</td>\n",
       "      <td>3.0</td>\n",
       "      <td>9.00</td>\n",
       "      <td>27.000</td>\n",
       "      <td>81.0000</td>\n",
       "      <td>243.00000</td>\n",
       "      <td>729.000000</td>\n",
       "      <td>2187.000000</td>\n",
       "      <td>6561.000000</td>\n",
       "      <td>1.968300e+04</td>\n",
       "      <td>5.904900e+04</td>\n",
       "    </tr>\n",
       "    <tr>\n",
       "      <th>17</th>\n",
       "      <td>12.639390</td>\n",
       "      <td>3.5</td>\n",
       "      <td>12.25</td>\n",
       "      <td>42.875</td>\n",
       "      <td>150.0625</td>\n",
       "      <td>525.21875</td>\n",
       "      <td>1838.265625</td>\n",
       "      <td>6433.929688</td>\n",
       "      <td>22518.753906</td>\n",
       "      <td>7.881564e+04</td>\n",
       "      <td>2.758547e+05</td>\n",
       "    </tr>\n",
       "    <tr>\n",
       "      <th>18</th>\n",
       "      <td>15.150116</td>\n",
       "      <td>4.0</td>\n",
       "      <td>16.00</td>\n",
       "      <td>64.000</td>\n",
       "      <td>256.0000</td>\n",
       "      <td>1024.00000</td>\n",
       "      <td>4096.000000</td>\n",
       "      <td>16384.000000</td>\n",
       "      <td>65536.000000</td>\n",
       "      <td>2.621440e+05</td>\n",
       "      <td>1.048576e+06</td>\n",
       "    </tr>\n",
       "    <tr>\n",
       "      <th>19</th>\n",
       "      <td>17.815534</td>\n",
       "      <td>4.5</td>\n",
       "      <td>20.25</td>\n",
       "      <td>91.125</td>\n",
       "      <td>410.0625</td>\n",
       "      <td>1845.28125</td>\n",
       "      <td>8303.765625</td>\n",
       "      <td>37366.945312</td>\n",
       "      <td>168151.253906</td>\n",
       "      <td>7.566806e+05</td>\n",
       "      <td>3.405063e+06</td>\n",
       "    </tr>\n",
       "  </tbody>\n",
       "</table>\n",
       "</div>"
      ],
      "text/plain": [
       "            y   x1     x2       x3        x4          x5            x6  \\\n",
       "0   20.590475 -5.0  25.00 -125.000  625.0000 -3125.00000  15625.000000   \n",
       "1   20.531423 -4.5  20.25  -91.125  410.0625 -1845.28125   8303.765625   \n",
       "2   16.348407 -4.0  16.00  -64.000  256.0000 -1024.00000   4096.000000   \n",
       "3   16.591821 -3.5  12.25  -42.875  150.0625  -525.21875   1838.265625   \n",
       "4   10.220290 -3.0   9.00  -27.000   81.0000  -243.00000    729.000000   \n",
       "5    3.742008 -2.5   6.25  -15.625   39.0625   -97.65625    244.140625   \n",
       "6    7.382273 -2.0   4.00   -8.000   16.0000   -32.00000     64.000000   \n",
       "7    2.877730 -1.5   2.25   -3.375    5.0625    -7.59375     11.390625   \n",
       "8   -0.042077 -1.0   1.00   -1.000    1.0000    -1.00000      1.000000   \n",
       "9    0.664504 -0.5   0.25   -0.125    0.0625    -0.03125      0.015625   \n",
       "10   0.500927  0.0   0.00    0.000    0.0000     0.00000      0.000000   \n",
       "11  -0.671363  0.5   0.25    0.125    0.0625     0.03125      0.015625   \n",
       "12   4.584382  1.0   1.00    1.000    1.0000     1.00000      1.000000   \n",
       "13   0.898482  1.5   2.25    3.375    5.0625     7.59375     11.390625   \n",
       "14   0.885799  2.0   4.00    8.000   16.0000    32.00000     64.000000   \n",
       "15   1.159721  2.5   6.25   15.625   39.0625    97.65625    244.140625   \n",
       "16  10.050932  3.0   9.00   27.000   81.0000   243.00000    729.000000   \n",
       "17  12.639390  3.5  12.25   42.875  150.0625   525.21875   1838.265625   \n",
       "18  15.150116  4.0  16.00   64.000  256.0000  1024.00000   4096.000000   \n",
       "19  17.815534  4.5  20.25   91.125  410.0625  1845.28125   8303.765625   \n",
       "\n",
       "              x7             x8            x9           x10  \n",
       "0  -78125.000000  390625.000000 -1.953125e+06  9.765625e+06  \n",
       "1  -37366.945312  168151.253906 -7.566806e+05  3.405063e+06  \n",
       "2  -16384.000000   65536.000000 -2.621440e+05  1.048576e+06  \n",
       "3   -6433.929688   22518.753906 -7.881564e+04  2.758547e+05  \n",
       "4   -2187.000000    6561.000000 -1.968300e+04  5.904900e+04  \n",
       "5    -610.351562    1525.878906 -3.814697e+03  9.536743e+03  \n",
       "6    -128.000000     256.000000 -5.120000e+02  1.024000e+03  \n",
       "7     -17.085938      25.628906 -3.844336e+01  5.766504e+01  \n",
       "8      -1.000000       1.000000 -1.000000e+00  1.000000e+00  \n",
       "9      -0.007812       0.003906 -1.953125e-03  9.765625e-04  \n",
       "10      0.000000       0.000000  0.000000e+00  0.000000e+00  \n",
       "11      0.007812       0.003906  1.953125e-03  9.765625e-04  \n",
       "12      1.000000       1.000000  1.000000e+00  1.000000e+00  \n",
       "13     17.085938      25.628906  3.844336e+01  5.766504e+01  \n",
       "14    128.000000     256.000000  5.120000e+02  1.024000e+03  \n",
       "15    610.351562    1525.878906  3.814697e+03  9.536743e+03  \n",
       "16   2187.000000    6561.000000  1.968300e+04  5.904900e+04  \n",
       "17   6433.929688   22518.753906  7.881564e+04  2.758547e+05  \n",
       "18  16384.000000   65536.000000  2.621440e+05  1.048576e+06  \n",
       "19  37366.945312  168151.253906  7.566806e+05  3.405063e+06  "
      ]
     },
     "execution_count": 9,
     "metadata": {},
     "output_type": "execute_result"
    }
   ],
   "source": [
    "d = {\"y\":y,\"x1\":x1,\"x2\":pow(x1,2),\"x3\":pow(x1,3),\"x4\":pow(x1,4),\"x5\":pow(x1,5),\"x6\":pow(x1,6),\"x7\":pow(x1,7),\"x8\":pow(x1,8),\"x9\":pow(x1,9),\"x10\":pow(x1,10)}\n",
    "df = pd.DataFrame(d)\n",
    "d2 = {\"y\":y,\"x1\":x1,\"x2\":pow(x1,2)}\n",
    "df2 = pd.DataFrame(d2)\n",
    "df"
   ]
  },
  {
   "cell_type": "code",
   "execution_count": 10,
   "id": "cfd0fb91",
   "metadata": {},
   "outputs": [],
   "source": [
    "# Fit a polynomial of degree 1\n",
    "model1 = LinearRegression().fit(x1.reshape(-1, 1), y)"
   ]
  },
  {
   "cell_type": "code",
   "execution_count": 11,
   "id": "bedf0c1f",
   "metadata": {},
   "outputs": [],
   "source": [
    "# Fit a polynomial of degree 2\n",
    "model2 = LinearRegression().fit(df2,y.reshape(-1,1))"
   ]
  },
  {
   "cell_type": "code",
   "execution_count": 12,
   "id": "57805f3d",
   "metadata": {},
   "outputs": [],
   "source": [
    "# Fit a polynomial of degree 10\n",
    "model10 = LinearRegression().fit(df,y.reshape(-1,1))"
   ]
  },
  {
   "cell_type": "code",
   "execution_count": 13,
   "id": "88a749f3",
   "metadata": {},
   "outputs": [],
   "source": [
    "linearp = np.polynomial.polynomial.Polynomial.fit(x=df['x1'],y=df['y'],deg=1)\n",
    "quadp= np.polynomial.polynomial.Polynomial.fit(x=df['x1'],y=df['y'],deg=2)\n",
    "mulp = np.polynomial.polynomial.Polynomial.fit(x=df['x1'],y=df['y'],deg=10)"
   ]
  },
  {
   "cell_type": "code",
   "execution_count": 14,
   "id": "8afcbf54",
   "metadata": {},
   "outputs": [],
   "source": [
    "linear_y = linearp(x1)\n",
    "quad_p = quadp(x1)\n",
    "mul_p= mulp(x1)"
   ]
  },
  {
   "cell_type": "code",
   "execution_count": 19,
   "id": "68b4aa86",
   "metadata": {},
   "outputs": [
    {
     "data": {
      "image/png": "[encoded data removed]",
      "text/plain": [
       "<Figure size 432x288 with 1 Axes>"
      ]
     },
     "metadata": {
      "needs_background": "light"
     },
     "output_type": "display_data"
    }
   ],
   "source": [
    "plt.scatter(df['x1'],df['y'],color=\"yellow\")\n",
    "plt.plot(df['x1'],linear_y,\"r--\")\n",
    "plt.plot(df['x1'],quad_p,\"b--\")\n",
    "plt.plot(df['x1'],mul_p,\"g--\")\n",
    "\n",
    "plt.show()"
   ]
  },
  {
   "cell_type": "code",
   "execution_count": null,
   "id": "87055525",
   "metadata": {},
   "outputs": [],
   "source": []
  }
 ],
 "metadata": {
  "kernelspec": {
   "display_name": "base",
   "language": "python",
   "name": "python3"
  },
  "language_info": {
   "codemirror_mode": {
    "name": "ipython",
    "version": 3
   },
   "file_extension": ".py",
   "mimetype": "text/x-python",
   "name": "python",
   "nbconvert_exporter": "python",
   "pygments_lexer": "ipython3",
   "version": "3.9.12 (main, Apr  4 2022, 05:22:27) [MSC v.1916 64 bit (AMD64)]"
  },
  "vscode": {
   "interpreter": {
    "hash": "36526bd4932420a386fe19e89d3f7c800a069b36dd87d412ba674b50a2ad3fe4"
   }
  }
 },
 "nbformat": 4,
 "nbformat_minor": 5
}
