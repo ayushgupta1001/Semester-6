{
 "cells": [
  {
   "cell_type": "code",
   "execution_count": 2,
   "id": "b2af1852",
   "metadata": {},
   "outputs": [],
   "source": [
    "import numpy as np;\n",
    "import pandas as pd;\n",
    "import matplotlib.pyplot as plt"
   ]
  },
  {
   "cell_type": "code",
   "execution_count": 3,
   "id": "694822ca",
   "metadata": {},
   "outputs": [],
   "source": [
    "index=[0,1,2,3,4],\n",
    "yrs=[1.1,1.3,1.5,2.0,22];\n",
    "salary=[39343,46205,37731,43525,39891];\n",
    "x1=[2,4,6,8];\n",
    "y1=[3,7,5,10];\n"
   ]
  },
  {
   "cell_type": "code",
   "execution_count": 3,
   "id": "9eae3d76",
   "metadata": {},
   "outputs": [],
   "source": [
    "data=pd.DataFrame(list(zip(yrs,salary)),columns=['year_of_experi','salary'])"
   ]
  },
  {
   "cell_type": "code",
   "execution_count": 4,
   "id": "ba1030b7",
   "metadata": {},
   "outputs": [],
   "source": [
    "df=pd.DataFrame(list(zip(x1,y1)),columns=['x1','y1'])"
   ]
  },
  {
   "cell_type": "code",
   "execution_count": 5,
   "id": "55eb7ee9",
   "metadata": {},
   "outputs": [
    {
     "data": {
      "text/html": [
       "<div>\n",
       "<style scoped>\n",
       "    .dataframe tbody tr th:only-of-type {\n",
       "        vertical-align: middle;\n",
       "    }\n",
       "\n",
       "    .dataframe tbody tr th {\n",
       "        vertical-align: top;\n",
       "    }\n",
       "\n",
       "    .dataframe thead th {\n",
       "        text-align: right;\n",
       "    }\n",
       "</style>\n",
       "<table border=\"1\" class=\"dataframe\">\n",
       "  <thead>\n",
       "    <tr style=\"text-align: right;\">\n",
       "      <th></th>\n",
       "      <th>year_of_experi</th>\n",
       "      <th>salary</th>\n",
       "    </tr>\n",
       "  </thead>\n",
       "  <tbody>\n",
       "    <tr>\n",
       "      <th>0</th>\n",
       "      <td>1.1</td>\n",
       "      <td>39343</td>\n",
       "    </tr>\n",
       "    <tr>\n",
       "      <th>1</th>\n",
       "      <td>1.3</td>\n",
       "      <td>46205</td>\n",
       "    </tr>\n",
       "    <tr>\n",
       "      <th>2</th>\n",
       "      <td>1.5</td>\n",
       "      <td>37731</td>\n",
       "    </tr>\n",
       "    <tr>\n",
       "      <th>3</th>\n",
       "      <td>2.0</td>\n",
       "      <td>43525</td>\n",
       "    </tr>\n",
       "    <tr>\n",
       "      <th>4</th>\n",
       "      <td>22.0</td>\n",
       "      <td>39891</td>\n",
       "    </tr>\n",
       "  </tbody>\n",
       "</table>\n",
       "</div>"
      ],
      "text/plain": [
       "   year_of_experi  salary\n",
       "0             1.1   39343\n",
       "1             1.3   46205\n",
       "2             1.5   37731\n",
       "3             2.0   43525\n",
       "4            22.0   39891"
      ]
     },
     "execution_count": 5,
     "metadata": {},
     "output_type": "execute_result"
    }
   ],
   "source": [
    "data"
   ]
  },
  {
   "cell_type": "code",
   "execution_count": 7,
   "id": "12634758",
   "metadata": {},
   "outputs": [],
   "source": [
    "def linear_regression(x,y):\n",
    "    N=len(x)\n",
    "    x_mean=x.mean()\n",
    "    y_mean=y.mean()\n",
    "    \n",
    "    W1_num=((x-x_mean)*(y-y_mean)).sum()\n",
    "    W1_den=((x-x_mean)**2).sum()\n",
    "    \n",
    "    W1=W1_num/W1_den\n",
    "    \n",
    "    W0= y_mean-(W1*x_mean)\n",
    "    \n",
    "    return (W0,W1,x_mean,y_mean)"
   ]
  },
  {
   "cell_type": "code",
   "execution_count": 8,
   "id": "7c7f867a",
   "metadata": {},
   "outputs": [
    {
     "name": "stdout",
     "output_type": "stream",
     "text": [
      "Wo and w1  (1.5, 0.95, 5.0, 6.25)\n"
     ]
    }
   ],
   "source": [
    "print(\"Wo and w1 \",linear_regression(df['x1'],df['y1']))\n",
    "# if x= i.e 17 yrs of experience expected salary will be y=w0+w1*x \n",
    "x1=17\n",
    "y1= 41814.63 +(-85.24*17)\n",
    "x2=10\n",
    "y2= 41814.63 +(-85.24*10)\n",
    "x3=20\n",
    "y3= 41814.63 +(-85.24*20)"
   ]
  },
  {
   "cell_type": "code",
   "execution_count": 26,
   "id": "618b1035",
   "metadata": {},
   "outputs": [
    {
     "data": {
      "image/png": "[encoded data removed]",
      "text/plain": [
       "<Figure size 432x288 with 1 Axes>"
      ]
     },
     "metadata": {
      "needs_background": "light"
     },
     "output_type": "display_data"
    }
   ],
   "source": [
    "plt.plot([x3,x2,x1],[y3,y2,y1])\n",
    "plt.show()"
   ]
  },
  {
   "cell_type": "code",
   "execution_count": 27,
   "id": "8340a1ab",
   "metadata": {},
   "outputs": [],
   "source": [
    "### multiple indepenent variable linear regression"
   ]
  },
  {
   "cell_type": "code",
   "execution_count": 60,
   "id": "5724e04d",
   "metadata": {},
   "outputs": [],
   "source": [
    "data=pd.read_csv(\"Data.csv\")"
   ]
  },
  {
   "cell_type": "code",
   "execution_count": 14,
   "id": "8340bd17",
   "metadata": {},
   "outputs": [],
   "source": [
    "x = np.array([[1,2,38,4,5,6],\n",
    "             [2,3,4,64,7,9]])"
   ]
  },
  {
   "cell_type": "code",
   "execution_count": 15,
   "id": "48ca5a29",
   "metadata": {},
   "outputs": [],
   "source": [
    "y=np.array([4,5,6,7,3,8])"
   ]
  },
  {
   "cell_type": "code",
   "execution_count": 36,
   "id": "e60b27f3",
   "metadata": {},
   "outputs": [],
   "source": [
    "def multi_linear_reg(x,y):\n",
    "    w=np.dot(np.matrix.transpose(x),x)\n",
    "    w=np.linalg.inv(w)\n",
    "    w=np.dot(w,np.matrix.transpose(x))\n",
    "    w=np.dot(w.transpose(),y)\n",
    "    return w"
   ]
  },
  {
   "cell_type": "code",
   "execution_count": 37,
   "id": "17b574db",
   "metadata": {},
   "outputs": [
    {
     "data": {
      "text/plain": [
       "array([ 5.21875, 22.     ])"
      ]
     },
     "execution_count": 37,
     "metadata": {},
     "output_type": "execute_result"
    }
   ],
   "source": [
    "multi_linear_reg(x,y)"
   ]
  },
  {
   "cell_type": "code",
   "execution_count": null,
   "id": "3d1d931d",
   "metadata": {},
   "outputs": [],
   "source": []
  },
  {
   "cell_type": "code",
   "execution_count": null,
   "id": "3427e1f5",
   "metadata": {},
   "outputs": [],
   "source": []
  },
  {
   "cell_type": "code",
   "execution_count": null,
   "id": "7bb73728",
   "metadata": {},
   "outputs": [],
   "source": []
  },
  {
   "cell_type": "code",
   "execution_count": null,
   "id": "ed8b61cb",
   "metadata": {},
   "outputs": [],
   "source": []
  },
  {
   "cell_type": "code",
   "execution_count": null,
   "id": "c87c3063",
   "metadata": {},
   "outputs": [],
   "source": []
  },
  {
   "cell_type": "code",
   "execution_count": null,
   "id": "fb068bb7",
   "metadata": {},
   "outputs": [],
   "source": [
    "\n"
   ]
  },
  {
   "cell_type": "code",
   "execution_count": null,
   "id": "9f436377",
   "metadata": {},
   "outputs": [],
   "source": []
  },
  {
   "cell_type": "code",
   "execution_count": null,
   "id": "69445507",
   "metadata": {},
   "outputs": [],
   "source": []
  },
  {
   "cell_type": "code",
   "execution_count": null,
   "id": "52ecf0fe",
   "metadata": {},
   "outputs": [],
   "source": []
  },
  {
   "cell_type": "code",
   "execution_count": null,
   "id": "51a33657",
   "metadata": {},
   "outputs": [],
   "source": []
  },
  {
   "cell_type": "code",
   "execution_count": null,
   "id": "e4dd76c1",
   "metadata": {},
   "outputs": [],
   "source": []
  }
 ],
 "metadata": {
  "kernelspec": {
   "display_name": "Python 3",
   "language": "python",
   "name": "python3"
  },
  "language_info": {
   "codemirror_mode": {
    "name": "ipython",
    "version": 3
   },
   "file_extension": ".py",
   "mimetype": "text/x-python",
   "name": "python",
   "nbconvert_exporter": "python",
   "pygments_lexer": "ipython3",
   "version": "3.8.8"
  }
 },
 "nbformat": 4,
 "nbformat_minor": 5
}
