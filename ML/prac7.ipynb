{
 "cells": [
  {
   "attachments": {},
   "cell_type": "markdown",
   "metadata": {},
   "source": [
    "#### Perform other matrix operations like converting matrix data to absolute values, taking the negative of matrix values, additing/removing rows/columns from a matrix, finding the maximum or minimum values in a matrix or in a row/column, and finding the sum of some/all elements in a matrix."
   ]
  },
  {
   "cell_type": "code",
   "execution_count": 1,
   "metadata": {},
   "outputs": [],
   "source": [
    "import math\n",
    "import numpy as np"
   ]
  },
  {
   "cell_type": "code",
   "execution_count": 2,
   "metadata": {},
   "outputs": [],
   "source": [
    "A = np.array(\n",
    "    [[ 1, 4, -6, 7],\n",
    "     [-2, -1, 3, 2],\n",
    "     [-1, 4, 3, 7]])"
   ]
  },
  {
   "cell_type": "code",
   "execution_count": 3,
   "metadata": {},
   "outputs": [
    {
     "name": "stdout",
     "output_type": "stream",
     "text": [
      "[[1 4 6 7]\n",
      " [2 1 3 2]\n",
      " [1 4 3 7]]\n"
     ]
    }
   ],
   "source": [
    "B = np.absolute(A)\n",
    "print(B)"
   ]
  },
  {
   "cell_type": "code",
   "execution_count": 4,
   "metadata": {},
   "outputs": [
    {
     "name": "stdout",
     "output_type": "stream",
     "text": [
      "[[-1 -4  6 -7]\n",
      " [ 2  1 -3 -2]\n",
      " [ 1 -4 -3 -7]]\n"
     ]
    }
   ],
   "source": [
    "C = -A\n",
    "print(C)"
   ]
  },
  {
   "cell_type": "code",
   "execution_count": 5,
   "metadata": {},
   "outputs": [
    {
     "name": "stdout",
     "output_type": "stream",
     "text": [
      "[[ 1  4 -6  7]\n",
      " [ 1  4  4  2]\n",
      " [-2 -1  3  2]\n",
      " [-1  4  3  7]]\n"
     ]
    }
   ],
   "source": [
    "# adding a row\n",
    "D = np.insert(A, 1, [1, 4, 4, 2], axis = 0)\n",
    "print(D)"
   ]
  },
  {
   "cell_type": "code",
   "execution_count": 6,
   "metadata": {},
   "outputs": [
    {
     "name": "stdout",
     "output_type": "stream",
     "text": [
      "[[ 1  4 -6  1  7]\n",
      " [ 1  4  4  2  2]\n",
      " [-2 -1  3  3  2]\n",
      " [-1  4  3  8  7]]\n"
     ]
    }
   ],
   "source": [
    "# inserting a column\n",
    "D = np.insert(D, 3, [1, 2, 3, 8], axis = 1)\n",
    "print(D)"
   ]
  },
  {
   "cell_type": "code",
   "execution_count": 7,
   "metadata": {},
   "outputs": [
    {
     "name": "stdout",
     "output_type": "stream",
     "text": [
      "[[ 1  4  4  2  2]\n",
      " [-2 -1  3  3  2]\n",
      " [-1  4  3  8  7]]\n"
     ]
    }
   ],
   "source": [
    "# deleting a row\n",
    "D = np.delete(D, 0, axis = 0)\n",
    "print(D)"
   ]
  },
  {
   "cell_type": "code",
   "execution_count": 8,
   "metadata": {},
   "outputs": [
    {
     "name": "stdout",
     "output_type": "stream",
     "text": [
      "[[ 1  2]\n",
      " [-2  2]\n",
      " [-1  7]]\n"
     ]
    }
   ],
   "source": [
    "# deleting columns 1, 2 and 3\n",
    "D = np.delete(D, range(1, 4), axis = 1)\n",
    "print(D)"
   ]
  }
 ],
 "metadata": {
  "kernelspec": {
   "display_name": "Python 3",
   "language": "python",
   "name": "python3"
  },
  "language_info": {
   "codemirror_mode": {
    "name": "ipython",
    "version": 3
   },
   "file_extension": ".py",
   "mimetype": "text/x-python",
   "name": "python",
   "nbconvert_exporter": "python",
   "pygments_lexer": "ipython3",
   "version": "3.7.9"
  }
 },
 "nbformat": 4,
 "nbformat_minor": 2
}
