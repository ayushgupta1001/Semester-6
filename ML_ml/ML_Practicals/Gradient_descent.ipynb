{
 "cells": [
  {
   "cell_type": "code",
   "execution_count": 2,
   "metadata": {},
   "outputs": [],
   "source": [
    "import numpy as np\n",
    "import pandas as pd\n",
    "import matplotlib.pyplot as plt"
   ]
  },
  {
   "cell_type": "code",
   "execution_count": 3,
   "metadata": {},
   "outputs": [
    {
     "data": {
      "text/html": [
       "<div>\n",
       "<style scoped>\n",
       "    .dataframe tbody tr th:only-of-type {\n",
       "        vertical-align: middle;\n",
       "    }\n",
       "\n",
       "    .dataframe tbody tr th {\n",
       "        vertical-align: top;\n",
       "    }\n",
       "\n",
       "    .dataframe thead th {\n",
       "        text-align: right;\n",
       "    }\n",
       "</style>\n",
       "<table border=\"1\" class=\"dataframe\">\n",
       "  <thead>\n",
       "    <tr style=\"text-align: right;\">\n",
       "      <th></th>\n",
       "      <th>X</th>\n",
       "      <th>Y</th>\n",
       "    </tr>\n",
       "  </thead>\n",
       "  <tbody>\n",
       "    <tr>\n",
       "      <th>0</th>\n",
       "      <td>33.502345</td>\n",
       "      <td>45.707006</td>\n",
       "    </tr>\n",
       "    <tr>\n",
       "      <th>1</th>\n",
       "      <td>53.426804</td>\n",
       "      <td>78.777596</td>\n",
       "    </tr>\n",
       "    <tr>\n",
       "      <th>2</th>\n",
       "      <td>51.530358</td>\n",
       "      <td>72.562382</td>\n",
       "    </tr>\n",
       "    <tr>\n",
       "      <th>3</th>\n",
       "      <td>47.475640</td>\n",
       "      <td>71.546632</td>\n",
       "    </tr>\n",
       "    <tr>\n",
       "      <th>4</th>\n",
       "      <td>59.813208</td>\n",
       "      <td>87.230925</td>\n",
       "    </tr>\n",
       "  </tbody>\n",
       "</table>\n",
       "</div>"
      ],
      "text/plain": [
       "           X          Y\n",
       "0  33.502345  45.707006\n",
       "1  53.426804  78.777596\n",
       "2  51.530358  72.562382\n",
       "3  47.475640  71.546632\n",
       "4  59.813208  87.230925"
      ]
     },
     "execution_count": 3,
     "metadata": {},
     "output_type": "execute_result"
    }
   ],
   "source": [
    "data = pd.read_csv(\"C:/Users/Ayush Gupta/Desktop/Semester 6/ML/ML_Practicals/data.csv\")\n",
    "data.head()"
   ]
  },
  {
   "cell_type": "code",
   "execution_count": 4,
   "metadata": {},
   "outputs": [
    {
     "data": {
      "image/png": "[encoded data removed]",
      "text/plain": [
       "<Figure size 432x288 with 1 Axes>"
      ]
     },
     "metadata": {
      "needs_background": "light"
     },
     "output_type": "display_data"
    }
   ],
   "source": [
    "plt.scatter(data.X,data.Y)\n",
    "plt.show()"
   ]
  },
  {
   "cell_type": "code",
   "execution_count": 5,
   "metadata": {},
   "outputs": [],
   "source": [
    "m=0\n",
    "c=0\n",
    "alpha = 0.0001\n",
    "iter = 100"
   ]
  },
  {
   "cell_type": "code",
   "execution_count": 20,
   "metadata": {},
   "outputs": [
    {
     "name": "stdout",
     "output_type": "stream",
     "text": [
      "0.7389196726365127 0.014615010110779994\n",
      "1.111145769150939 0.02200514144451888\n",
      "1.2986520306198437 0.025755780354913924\n",
      "1.393106709840302 0.02767304513519679\n",
      "1.4406871757071646 0.028666757759165353\n",
      "1.4646550191528058 0.02919523595003235\n",
      "1.4767281363167237 0.029489354693741227\n",
      "1.4828093517449792 0.02966541597128691\n",
      "1.485872180239785 0.029782006254167177\n",
      "1.4874145132275216 0.029868638149246368\n",
      "1.488190905124248 0.0299401784669281\n",
      "1.4885814584906478 0.030004116279682854\n",
      "1.4887776478626376 0.030064224165821413\n",
      "1.4888759274651988 0.030122402540538436\n",
      "1.4889248855739072 0.03017960872734518\n",
      "1.4889489982604316 0.03023632497259983\n",
      "1.48896059520878 0.0302927942052057\n",
      "1.4889658874282106 0.03034913879923869\n",
      "1.4889680036798476 0.03040542039995563\n",
      "1.4889685200595828 0.0304616700608109\n",
      "1.4889682305168936 0.03051790342480976\n",
      "1.4889675349993823 0.030574128372030017\n",
      "1.4889666349784132 0.03063034887201828\n",
      "1.4889656319440576 0.03068656692441295\n",
      "1.4889645770213704 0.03074278353652222\n",
      "1.4889634959643114 0.030798999215773486\n",
      "1.4889624017462941 0.030855214217782003\n",
      "1.4889613009026024 0.030911428671314058\n",
      "1.488960196725349 0.03096764264123649\n",
      "1.4889590908729176 0.031023856160227153\n",
      "1.4889579841807088 0.03108006924474886\n",
      "1.4889568770695518 0.03113628190309621\n",
      "1.4889557697514366 0.031192494139449103\n",
      "1.488954662333152 0.03124870595591468\n",
      "1.488953554868492 0.031304917353555936\n",
      "1.4889524473845552 0.031361128332909896\n",
      "1.4889513398949925 0.03141733889424862\n",
      "1.4889502324066801 0.031473549037710706\n",
      "1.488949124923082 0.0315297587633675\n",
      "1.4889480174459429 0.031585968071256486\n",
      "1.488946909976142 0.031642176961398094\n",
      "1.4889458025141222 0.031698385433804155\n",
      "1.4889446950601062 0.03175459348848216\n",
      "1.4889435876142063 0.03181080112543743\n",
      "1.4889424801764792 0.03186700834467419\n",
      "1.4889413727469532 0.031923215146196095\n",
      "1.4889402653256427 0.031979421530006547\n",
      "1.4889391579125548 0.03203562749610878\n",
      "1.4889380505076932 0.03209183304450598\n",
      "1.4889369431110597 0.03214803817520129\n",
      "1.4889358357226552 0.032204242888197815\n",
      "1.4889347283424799 0.03226044718349868\n",
      "1.488933620970534 0.03231665106110699\n",
      "1.4889325136068177 0.032372854521025854\n",
      "1.4889314062513308 0.032429057563258375\n",
      "1.4889302989040734 0.03248526018780766\n",
      "1.4889291915650453 0.03254146239467682\n",
      "1.488928084234247 0.032597664183868946\n",
      "1.4889269769116777 0.03265386555538715\n",
      "1.4889258695973377 0.03271006650923453\n",
      "1.488924762291227 0.0327662670454142\n",
      "1.4889236549933453 0.03282246716392926\n",
      "1.488922547703693 0.032878666864782816\n",
      "1.4889214404222695 0.03293486614797796\n",
      "1.4889203331490748 0.03299106501351781\n",
      "1.4889192258841093 0.03304726346140546\n",
      "1.4889181186273726 0.033103461491644025\n",
      "1.4889170113788646 0.03315965910423659\n",
      "1.4889159041385853 0.03321585629918628\n",
      "1.4889147969065348 0.03327205307649619\n",
      "1.4889136896827126 0.03332824943616942\n",
      "1.4889125824671192 0.033384445378209074\n",
      "1.4889114752597543 0.033440640902618265\n",
      "1.4889103680606177 0.03349683600940009\n",
      "1.4889092608697094 0.03355303069855765\n",
      "1.4889081536870294 0.03360922497009405\n",
      "1.4889070465125778 0.033665418824012396\n",
      "1.4889059393463542 0.033721612260315795\n",
      "1.4889048321883587 0.033777805279007346\n",
      "1.4889037250385915 0.03383399788009015\n",
      "1.4889026178970521 0.03389019006356732\n",
      "1.4889015107637407 0.03394638182944194\n",
      "1.488900403638657 0.03400257317771714\n",
      "1.4888992965218013 0.034058764108396006\n",
      "1.4888981894131732 0.03411495462148165\n",
      "1.4888970823127727 0.03417114471697716\n",
      "1.4888959752206 0.03422733439488566\n",
      "1.4888948681366547 0.03428352365521024\n",
      "1.4888937610609372 0.034339712497954006\n",
      "1.4888926539934468 0.03439590092312006\n",
      "1.488891546934184 0.034452088930711514\n",
      "1.4888904398831484 0.03450827652073146\n",
      "1.48888933284034 0.034564463693183015\n",
      "1.488888225805759 0.034620650448069265\n",
      "1.488887118779405 0.03467683678539332\n",
      "1.488886011761278 0.03473302270515829\n",
      "1.4888849047513781 0.03478920820736727\n",
      "1.4888837977497051 0.03484539329202337\n",
      "1.4888826907562591 0.034901577959129695\n",
      "1.4888815837710399 0.03495776220868933\n"
     ]
    }
   ],
   "source": [
    "def update():\n",
    "    DM = 0\n",
    "    DC = 0\n",
    "    m = 0\n",
    "    c = 0\n",
    "    for j in range(0, 100):\n",
    "        DM, DC = 0, 0\n",
    "        for i in range(0, len(data.Y)):\n",
    "            DM = DM + ((m*data.X[i] + c - data.Y[i])*data.X[i])\n",
    "            DC = DC + (m*data.X[i] + c  - data.Y[i])\n",
    "        DM = (DM*2)/len(data.X)\n",
    "        DC = (DC*2)/len(data.X)\n",
    "            \n",
    "        m = m - alpha*DM\n",
    "        c = c - alpha*DC\n",
    "        print(m,c)\n",
    "    data[\"y_pred\"] = m*data.X + c    \n",
    "update()"
   ]
  },
  {
   "cell_type": "code",
   "execution_count": 21,
   "metadata": {},
   "outputs": [
    {
     "data": {
      "text/html": [
       "<div>\n",
       "<style scoped>\n",
       "    .dataframe tbody tr th:only-of-type {\n",
       "        vertical-align: middle;\n",
       "    }\n",
       "\n",
       "    .dataframe tbody tr th {\n",
       "        vertical-align: top;\n",
       "    }\n",
       "\n",
       "    .dataframe thead th {\n",
       "        text-align: right;\n",
       "    }\n",
       "</style>\n",
       "<table border=\"1\" class=\"dataframe\">\n",
       "  <thead>\n",
       "    <tr style=\"text-align: right;\">\n",
       "      <th></th>\n",
       "      <th>X</th>\n",
       "      <th>Y</th>\n",
       "      <th>y_pred</th>\n",
       "    </tr>\n",
       "  </thead>\n",
       "  <tbody>\n",
       "    <tr>\n",
       "      <th>0</th>\n",
       "      <td>33.502345</td>\n",
       "      <td>45.707006</td>\n",
       "      <td>49.915983</td>\n",
       "    </tr>\n",
       "    <tr>\n",
       "      <th>1</th>\n",
       "      <td>53.426804</td>\n",
       "      <td>78.777596</td>\n",
       "      <td>79.581142</td>\n",
       "    </tr>\n",
       "    <tr>\n",
       "      <th>2</th>\n",
       "      <td>51.530358</td>\n",
       "      <td>72.562382</td>\n",
       "      <td>76.757559</td>\n",
       "    </tr>\n",
       "    <tr>\n",
       "      <th>3</th>\n",
       "      <td>47.475640</td>\n",
       "      <td>71.546632</td>\n",
       "      <td>70.720563</td>\n",
       "    </tr>\n",
       "    <tr>\n",
       "      <th>4</th>\n",
       "      <td>59.813208</td>\n",
       "      <td>87.230925</td>\n",
       "      <td>89.089741</td>\n",
       "    </tr>\n",
       "    <tr>\n",
       "      <th>...</th>\n",
       "      <td>...</td>\n",
       "      <td>...</td>\n",
       "      <td>...</td>\n",
       "    </tr>\n",
       "    <tr>\n",
       "      <th>95</th>\n",
       "      <td>50.030174</td>\n",
       "      <td>81.536991</td>\n",
       "      <td>74.523963</td>\n",
       "    </tr>\n",
       "    <tr>\n",
       "      <th>96</th>\n",
       "      <td>49.239765</td>\n",
       "      <td>72.111832</td>\n",
       "      <td>73.347138</td>\n",
       "    </tr>\n",
       "    <tr>\n",
       "      <th>97</th>\n",
       "      <td>50.039576</td>\n",
       "      <td>85.232007</td>\n",
       "      <td>74.537961</td>\n",
       "    </tr>\n",
       "    <tr>\n",
       "      <th>98</th>\n",
       "      <td>48.149859</td>\n",
       "      <td>66.224958</td>\n",
       "      <td>71.724396</td>\n",
       "    </tr>\n",
       "    <tr>\n",
       "      <th>99</th>\n",
       "      <td>25.128485</td>\n",
       "      <td>53.454394</td>\n",
       "      <td>37.448296</td>\n",
       "    </tr>\n",
       "  </tbody>\n",
       "</table>\n",
       "<p>100 rows × 3 columns</p>\n",
       "</div>"
      ],
      "text/plain": [
       "            X          Y     y_pred\n",
       "0   33.502345  45.707006  49.915983\n",
       "1   53.426804  78.777596  79.581142\n",
       "2   51.530358  72.562382  76.757559\n",
       "3   47.475640  71.546632  70.720563\n",
       "4   59.813208  87.230925  89.089741\n",
       "..        ...        ...        ...\n",
       "95  50.030174  81.536991  74.523963\n",
       "96  49.239765  72.111832  73.347138\n",
       "97  50.039576  85.232007  74.537961\n",
       "98  48.149859  66.224958  71.724396\n",
       "99  25.128485  53.454394  37.448296\n",
       "\n",
       "[100 rows x 3 columns]"
      ]
     },
     "execution_count": 21,
     "metadata": {},
     "output_type": "execute_result"
    }
   ],
   "source": [
    "data"
   ]
  },
  {
   "cell_type": "code",
   "execution_count": 23,
   "metadata": {},
   "outputs": [
    {
     "data": {
      "image/png": "[encoded data removed]",
      "text/plain": [
       "<Figure size 432x288 with 1 Axes>"
      ]
     },
     "metadata": {
      "needs_background": "light"
     },
     "output_type": "display_data"
    }
   ],
   "source": [
    "plt.scatter(data.X, data.Y,color='g') \n",
    "plt.plot(data.X, data.y_pred,color='k')\n",
    "plt.show()"
   ]
  },
  {
   "cell_type": "code",
   "execution_count": null,
   "metadata": {},
   "outputs": [],
   "source": []
  }
 ],
 "metadata": {
  "kernelspec": {
   "display_name": "base",
   "language": "python",
   "name": "python3"
  },
  "language_info": {
   "codemirror_mode": {
    "name": "ipython",
    "version": 3
   },
   "file_extension": ".py",
   "mimetype": "text/x-python",
   "name": "python",
   "nbconvert_exporter": "python",
   "pygments_lexer": "ipython3",
   "version": "3.9.12 (main, Apr  4 2022, 05:22:27) [MSC v.1916 64 bit (AMD64)]"
  },
  "orig_nbformat": 4,
  "vscode": {
   "interpreter": {
    "hash": "36526bd4932420a386fe19e89d3f7c800a069b36dd87d412ba674b50a2ad3fe4"
   }
  }
 },
 "nbformat": 4,
 "nbformat_minor": 2
}
