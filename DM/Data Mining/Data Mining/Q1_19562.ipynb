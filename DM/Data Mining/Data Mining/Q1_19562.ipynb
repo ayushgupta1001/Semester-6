{
 "cells": [
  {
   "cell_type": "markdown",
   "metadata": {},
   "source": [
    "Name: Tanya Singh; Roll No.: 19562"
   ]
  },
  {
   "cell_type": "markdown",
   "metadata": {},
   "source": [
    "**Q1. Create a file “people.txt” with the following data:**\n",
    "    \n",
    "    Age agegroup height status    yearsmarried\n",
    "    21  adult    6.0    single    -1\n",
    "    2   child    3      married   0\n",
    "    18  adult    5.7    married   20\n",
    "    221 elderly  5      widowed   2\n",
    "    34  child    -7     married   3"
   ]
  },
  {
   "cell_type": "code",
   "execution_count": 1,
   "metadata": {},
   "outputs": [],
   "source": [
    "import numpy as np\n",
    "import pandas as pd\n",
    "import matplotlib.pyplot as plt"
   ]
  },
  {
   "cell_type": "markdown",
   "metadata": {},
   "source": [
    "**i) Read the data from the file “people.txt”.**"
   ]
  },
  {
   "cell_type": "code",
   "execution_count": 2,
   "metadata": {},
   "outputs": [
    {
     "name": "stdout",
     "output_type": "stream",
     "text": [
      "Age agegroup height status yearsmarried\n",
      "\n",
      "21 adult 6.0 single -1\n",
      "\n",
      "2 child 3 married 0\n",
      "\n",
      "18 adult 5.7 married 20\n",
      "\n",
      "221 elderly 5 widowed 2\n",
      "\n",
      "34 child -7 married 3\n"
     ]
    }
   ],
   "source": [
    "data = open('people.txt','r')\n",
    "for line in data.readlines():\n",
    "    if line != '\\n':\n",
    "        print(line)"
   ]
  },
  {
   "cell_type": "code",
   "execution_count": 3,
   "metadata": {},
   "outputs": [
    {
     "data": {
      "text/html": [
       "<div>\n",
       "<style scoped>\n",
       "    .dataframe tbody tr th:only-of-type {\n",
       "        vertical-align: middle;\n",
       "    }\n",
       "\n",
       "    .dataframe tbody tr th {\n",
       "        vertical-align: top;\n",
       "    }\n",
       "\n",
       "    .dataframe thead th {\n",
       "        text-align: right;\n",
       "    }\n",
       "</style>\n",
       "<table border=\"1\" class=\"dataframe\">\n",
       "  <thead>\n",
       "    <tr style=\"text-align: right;\">\n",
       "      <th></th>\n",
       "      <th>Age</th>\n",
       "      <th>agegroup</th>\n",
       "      <th>height</th>\n",
       "      <th>status</th>\n",
       "      <th>yearsmarried</th>\n",
       "    </tr>\n",
       "  </thead>\n",
       "  <tbody>\n",
       "    <tr>\n",
       "      <td>0</td>\n",
       "      <td>21</td>\n",
       "      <td>adult</td>\n",
       "      <td>6.0</td>\n",
       "      <td>single</td>\n",
       "      <td>-1</td>\n",
       "    </tr>\n",
       "    <tr>\n",
       "      <td>1</td>\n",
       "      <td>2</td>\n",
       "      <td>child</td>\n",
       "      <td>3.0</td>\n",
       "      <td>married</td>\n",
       "      <td>0</td>\n",
       "    </tr>\n",
       "    <tr>\n",
       "      <td>2</td>\n",
       "      <td>18</td>\n",
       "      <td>adult</td>\n",
       "      <td>5.7</td>\n",
       "      <td>married</td>\n",
       "      <td>20</td>\n",
       "    </tr>\n",
       "    <tr>\n",
       "      <td>3</td>\n",
       "      <td>221</td>\n",
       "      <td>elderly</td>\n",
       "      <td>5.0</td>\n",
       "      <td>widowed</td>\n",
       "      <td>2</td>\n",
       "    </tr>\n",
       "    <tr>\n",
       "      <td>4</td>\n",
       "      <td>34</td>\n",
       "      <td>child</td>\n",
       "      <td>-7.0</td>\n",
       "      <td>married</td>\n",
       "      <td>3</td>\n",
       "    </tr>\n",
       "  </tbody>\n",
       "</table>\n",
       "</div>"
      ],
      "text/plain": [
       "   Age agegroup  height   status  yearsmarried\n",
       "0   21    adult     6.0   single            -1\n",
       "1    2    child     3.0  married             0\n",
       "2   18    adult     5.7  married            20\n",
       "3  221  elderly     5.0  widowed             2\n",
       "4   34    child    -7.0  married             3"
      ]
     },
     "execution_count": 3,
     "metadata": {},
     "output_type": "execute_result"
    }
   ],
   "source": [
    "df = pd.read_csv('people.txt',sep=\" \",header=0)\n",
    "df"
   ]
  },
  {
   "cell_type": "markdown",
   "metadata": {},
   "source": [
    "**ii) Create a ruleset E that contain rules to check for the following conditions:**\n",
    "1. The age should be in the range 0-150.\n",
    "2. The age should be greater than yearsmarried.\n",
    "3. The status should be married or single or widowed.\n",
    "4. If age is less than 18 the agegroup should be child, if age is between 18 and 65 the agegroup should be adult, if age is more than 65 the agegroup should be elderly."
   ]
  },
  {
   "cell_type": "code",
   "execution_count": 4,
   "metadata": {
    "scrolled": true
   },
   "outputs": [
    {
     "name": "stdout",
     "output_type": "stream",
     "text": [
      "The age should be in the range 0-150. \n",
      "\n",
      "The age should be greater than yearsmarried. \n",
      "\n",
      "The status should be married or single or widowed. \n",
      "\n",
      "If age is less than 18 the agegroup should be child, if age is between 18 and 65 the agegroup should be adult, if age is more than 65 the agegroup should be elderly. \n",
      "\n"
     ]
    }
   ],
   "source": [
    "E = ['The age should be in the range 0-150.',\n",
    "     'The age should be greater than yearsmarried.',\n",
    "     'The status should be married or single or widowed.',\n",
    "     'If age is less than 18 the agegroup should be child, if age is between 18 and 65 the agegroup should be adult, if age is more than 65 the agegroup should be elderly.']\n",
    "\n",
    "for rules in E:\n",
    "    print(rules,'\\n')"
   ]
  },
  {
   "cell_type": "markdown",
   "metadata": {},
   "source": [
    "**iii) Check whether ruleset E is violated by the data in the file people.txt.**"
   ]
  },
  {
   "cell_type": "code",
   "execution_count": 5,
   "metadata": {},
   "outputs": [
    {
     "name": "stdout",
     "output_type": "stream",
     "text": [
      "Ruleset E is violated\n",
      "\n",
      "Rule 1: 1\n",
      "Rule 2: 1\n",
      "Rule 3: 0\n",
      "Rule 4: 1\n"
     ]
    }
   ],
   "source": [
    "rule_b = [0, 0, 0, 0]\n",
    "\n",
    "for r in df.iterrows():\n",
    "    if r[1][0] < 0 or r[1][0] > 150: \n",
    "        rule_b[0] += 1\n",
    "    if r[1][0] <= r[1][4]:\n",
    "        rule_b[1] += 1\n",
    "    if r[1][3] not in ['single','married','widowed']:\n",
    "        rule_b[2] += 1\n",
    "    if (r[1][0] < 18 and r[1][1] != 'child') or (r[1][0] >= 18 and r[1][0] <= 65 and r[1][1] != 'adult') or (r[1][0] > 65 and r[1][1] != 'elderly'):\n",
    "        rule_b[3] += 1\n",
    "\n",
    "if sum(rule_b) > 0:\n",
    "    print(\"Ruleset E is violated\\n\")\n",
    "else:\n",
    "    print(\"Ruleset E is not violated\\n\")\n",
    "    \n",
    "print('Rule 1:', rule_b[0])\n",
    "print('Rule 2:', rule_b[1])\n",
    "print('Rule 3:', rule_b[2])\n",
    "print('Rule 4:', rule_b[3])"
   ]
  },
  {
   "cell_type": "markdown",
   "metadata": {},
   "source": [
    "**iv) Summarize the results obtained in part (iii)**"
   ]
  },
  {
   "cell_type": "markdown",
   "metadata": {},
   "source": [
    "1. Rule 1 : The age should be in the range 0-150.\n",
    "    - violated in row 3 where Age = 221\n",
    "2. Rule 2 : The age should be greater than yearsmarried.\n",
    "    - violated in row 2 where Age(i.e. 18) < yearsmarried(i.e. 20)\n",
    "3. Rule 3 : The status should be married or single or widowed. \n",
    "    - Not violated\n",
    "4. Rule 4 : If age is less than 18 the agegroup should be child, if age is between 18 and 65 the agegroup should be adult, if age is more than 65 the agegroup should be elderly.\n",
    "    - violated in row 4 where Age = 34 and agegroup = 'child'"
   ]
  },
  {
   "cell_type": "markdown",
   "metadata": {},
   "source": [
    "**v) Visualize the results obtained in part (iii)**"
   ]
  },
  {
   "cell_type": "code",
   "execution_count": 6,
   "metadata": {},
   "outputs": [
    {
     "data": {
      "text/plain": [
       "<BarContainer object of 4 artists>"
      ]
     },
     "execution_count": 6,
     "metadata": {},
     "output_type": "execute_result"
    },
    {
     "data": {
      "image/png": "[encoded data removed]",
      "text/plain": [
       "<Figure size 432x288 with 1 Axes>"
      ]
     },
     "metadata": {
      "needs_background": "light"
     },
     "output_type": "display_data"
    }
   ],
   "source": [
    "plt.bar(['Rule 1', 'Rule 2', 'Rule 3', 'Rule 4'], rule_b)"
   ]
  }
 ],
 "metadata": {
  "kernelspec": {
   "display_name": "Python 3 (ipykernel)",
   "language": "python",
   "name": "python3"
  },
  "language_info": {
   "codemirror_mode": {
    "name": "ipython",
    "version": 3
   },
   "file_extension": ".py",
   "mimetype": "text/x-python",
   "name": "python",
   "nbconvert_exporter": "python",
   "pygments_lexer": "ipython3",
   "version": "3.9.7"
  }
 },
 "nbformat": 4,
 "nbformat_minor": 2
}
