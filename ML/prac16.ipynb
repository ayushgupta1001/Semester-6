{
 "cells": [
  {
   "cell_type": "markdown",
   "metadata": {},
   "source": [
    "## Use some function for neural networks, like Stochastic Gradient Descent or backpropagation algorithm to predict the value of a variable based on the dataset of problem 14."
   ]
  },
  {
   "cell_type": "code",
   "execution_count": 1,
   "metadata": {
    "colab": {},
    "colab_type": "code",
    "id": "R5uFy9SrRhm7"
   },
   "outputs": [],
   "source": [
    "import numpy as np\n",
    "import pandas as pd\n",
    "import tensorflow as tf\n",
    "from sklearn.preprocessing import StandardScaler\n",
    "from sklearn.model_selection import train_test_split\n",
    "from sklearn.linear_model import SGDClassifier"
   ]
  },
  {
   "cell_type": "code",
   "execution_count": 2,
   "metadata": {
    "colab": {},
    "colab_type": "code",
    "id": "KGCOwD_aRxwY"
   },
   "outputs": [
    {
     "data": {
      "text/html": [
       "<div>\n",
       "<style scoped>\n",
       "    .dataframe tbody tr th:only-of-type {\n",
       "        vertical-align: middle;\n",
       "    }\n",
       "\n",
       "    .dataframe tbody tr th {\n",
       "        vertical-align: top;\n",
       "    }\n",
       "\n",
       "    .dataframe thead th {\n",
       "        text-align: right;\n",
       "    }\n",
       "</style>\n",
       "<table border=\"1\" class=\"dataframe\">\n",
       "  <thead>\n",
       "    <tr style=\"text-align: right;\">\n",
       "      <th></th>\n",
       "      <th>RowNumber</th>\n",
       "      <th>CustomerId</th>\n",
       "      <th>Surname</th>\n",
       "      <th>CreditScore</th>\n",
       "      <th>Geography</th>\n",
       "      <th>Gender</th>\n",
       "      <th>Age</th>\n",
       "      <th>Tenure</th>\n",
       "      <th>Balance</th>\n",
       "      <th>NumOfProducts</th>\n",
       "      <th>HasCrCard</th>\n",
       "      <th>IsActiveMember</th>\n",
       "      <th>EstimatedSalary</th>\n",
       "      <th>Exited</th>\n",
       "    </tr>\n",
       "  </thead>\n",
       "  <tbody>\n",
       "    <tr>\n",
       "      <th>0</th>\n",
       "      <td>1</td>\n",
       "      <td>15634602</td>\n",
       "      <td>Hargrave</td>\n",
       "      <td>619</td>\n",
       "      <td>France</td>\n",
       "      <td>Female</td>\n",
       "      <td>42</td>\n",
       "      <td>2</td>\n",
       "      <td>0.00</td>\n",
       "      <td>1</td>\n",
       "      <td>1</td>\n",
       "      <td>1</td>\n",
       "      <td>101348.88</td>\n",
       "      <td>1</td>\n",
       "    </tr>\n",
       "    <tr>\n",
       "      <th>1</th>\n",
       "      <td>2</td>\n",
       "      <td>15647311</td>\n",
       "      <td>Hill</td>\n",
       "      <td>608</td>\n",
       "      <td>Spain</td>\n",
       "      <td>Female</td>\n",
       "      <td>41</td>\n",
       "      <td>1</td>\n",
       "      <td>83807.86</td>\n",
       "      <td>1</td>\n",
       "      <td>0</td>\n",
       "      <td>1</td>\n",
       "      <td>112542.58</td>\n",
       "      <td>0</td>\n",
       "    </tr>\n",
       "    <tr>\n",
       "      <th>2</th>\n",
       "      <td>3</td>\n",
       "      <td>15619304</td>\n",
       "      <td>Onio</td>\n",
       "      <td>502</td>\n",
       "      <td>France</td>\n",
       "      <td>Female</td>\n",
       "      <td>42</td>\n",
       "      <td>8</td>\n",
       "      <td>159660.80</td>\n",
       "      <td>3</td>\n",
       "      <td>1</td>\n",
       "      <td>0</td>\n",
       "      <td>113931.57</td>\n",
       "      <td>1</td>\n",
       "    </tr>\n",
       "    <tr>\n",
       "      <th>3</th>\n",
       "      <td>4</td>\n",
       "      <td>15701354</td>\n",
       "      <td>Boni</td>\n",
       "      <td>699</td>\n",
       "      <td>France</td>\n",
       "      <td>Female</td>\n",
       "      <td>39</td>\n",
       "      <td>1</td>\n",
       "      <td>0.00</td>\n",
       "      <td>2</td>\n",
       "      <td>0</td>\n",
       "      <td>0</td>\n",
       "      <td>93826.63</td>\n",
       "      <td>0</td>\n",
       "    </tr>\n",
       "    <tr>\n",
       "      <th>4</th>\n",
       "      <td>5</td>\n",
       "      <td>15737888</td>\n",
       "      <td>Mitchell</td>\n",
       "      <td>850</td>\n",
       "      <td>Spain</td>\n",
       "      <td>Female</td>\n",
       "      <td>43</td>\n",
       "      <td>2</td>\n",
       "      <td>125510.82</td>\n",
       "      <td>1</td>\n",
       "      <td>1</td>\n",
       "      <td>1</td>\n",
       "      <td>79084.10</td>\n",
       "      <td>0</td>\n",
       "    </tr>\n",
       "    <tr>\n",
       "      <th>...</th>\n",
       "      <td>...</td>\n",
       "      <td>...</td>\n",
       "      <td>...</td>\n",
       "      <td>...</td>\n",
       "      <td>...</td>\n",
       "      <td>...</td>\n",
       "      <td>...</td>\n",
       "      <td>...</td>\n",
       "      <td>...</td>\n",
       "      <td>...</td>\n",
       "      <td>...</td>\n",
       "      <td>...</td>\n",
       "      <td>...</td>\n",
       "      <td>...</td>\n",
       "    </tr>\n",
       "    <tr>\n",
       "      <th>9995</th>\n",
       "      <td>9996</td>\n",
       "      <td>15606229</td>\n",
       "      <td>Obijiaku</td>\n",
       "      <td>771</td>\n",
       "      <td>France</td>\n",
       "      <td>Male</td>\n",
       "      <td>39</td>\n",
       "      <td>5</td>\n",
       "      <td>0.00</td>\n",
       "      <td>2</td>\n",
       "      <td>1</td>\n",
       "      <td>0</td>\n",
       "      <td>96270.64</td>\n",
       "      <td>0</td>\n",
       "    </tr>\n",
       "    <tr>\n",
       "      <th>9996</th>\n",
       "      <td>9997</td>\n",
       "      <td>15569892</td>\n",
       "      <td>Johnstone</td>\n",
       "      <td>516</td>\n",
       "      <td>France</td>\n",
       "      <td>Male</td>\n",
       "      <td>35</td>\n",
       "      <td>10</td>\n",
       "      <td>57369.61</td>\n",
       "      <td>1</td>\n",
       "      <td>1</td>\n",
       "      <td>1</td>\n",
       "      <td>101699.77</td>\n",
       "      <td>0</td>\n",
       "    </tr>\n",
       "    <tr>\n",
       "      <th>9997</th>\n",
       "      <td>9998</td>\n",
       "      <td>15584532</td>\n",
       "      <td>Liu</td>\n",
       "      <td>709</td>\n",
       "      <td>France</td>\n",
       "      <td>Female</td>\n",
       "      <td>36</td>\n",
       "      <td>7</td>\n",
       "      <td>0.00</td>\n",
       "      <td>1</td>\n",
       "      <td>0</td>\n",
       "      <td>1</td>\n",
       "      <td>42085.58</td>\n",
       "      <td>1</td>\n",
       "    </tr>\n",
       "    <tr>\n",
       "      <th>9998</th>\n",
       "      <td>9999</td>\n",
       "      <td>15682355</td>\n",
       "      <td>Sabbatini</td>\n",
       "      <td>772</td>\n",
       "      <td>Germany</td>\n",
       "      <td>Male</td>\n",
       "      <td>42</td>\n",
       "      <td>3</td>\n",
       "      <td>75075.31</td>\n",
       "      <td>2</td>\n",
       "      <td>1</td>\n",
       "      <td>0</td>\n",
       "      <td>92888.52</td>\n",
       "      <td>1</td>\n",
       "    </tr>\n",
       "    <tr>\n",
       "      <th>9999</th>\n",
       "      <td>10000</td>\n",
       "      <td>15628319</td>\n",
       "      <td>Walker</td>\n",
       "      <td>792</td>\n",
       "      <td>France</td>\n",
       "      <td>Female</td>\n",
       "      <td>28</td>\n",
       "      <td>4</td>\n",
       "      <td>130142.79</td>\n",
       "      <td>1</td>\n",
       "      <td>1</td>\n",
       "      <td>0</td>\n",
       "      <td>38190.78</td>\n",
       "      <td>0</td>\n",
       "    </tr>\n",
       "  </tbody>\n",
       "</table>\n",
       "<p>10000 rows × 14 columns</p>\n",
       "</div>"
      ],
      "text/plain": [
       "      RowNumber  CustomerId    Surname  CreditScore Geography  Gender  Age  \\\n",
       "0             1    15634602   Hargrave          619    France  Female   42   \n",
       "1             2    15647311       Hill          608     Spain  Female   41   \n",
       "2             3    15619304       Onio          502    France  Female   42   \n",
       "3             4    15701354       Boni          699    France  Female   39   \n",
       "4             5    15737888   Mitchell          850     Spain  Female   43   \n",
       "...         ...         ...        ...          ...       ...     ...  ...   \n",
       "9995       9996    15606229   Obijiaku          771    France    Male   39   \n",
       "9996       9997    15569892  Johnstone          516    France    Male   35   \n",
       "9997       9998    15584532        Liu          709    France  Female   36   \n",
       "9998       9999    15682355  Sabbatini          772   Germany    Male   42   \n",
       "9999      10000    15628319     Walker          792    France  Female   28   \n",
       "\n",
       "      Tenure    Balance  NumOfProducts  HasCrCard  IsActiveMember  \\\n",
       "0          2       0.00              1          1               1   \n",
       "1          1   83807.86              1          0               1   \n",
       "2          8  159660.80              3          1               0   \n",
       "3          1       0.00              2          0               0   \n",
       "4          2  125510.82              1          1               1   \n",
       "...      ...        ...            ...        ...             ...   \n",
       "9995       5       0.00              2          1               0   \n",
       "9996      10   57369.61              1          1               1   \n",
       "9997       7       0.00              1          0               1   \n",
       "9998       3   75075.31              2          1               0   \n",
       "9999       4  130142.79              1          1               0   \n",
       "\n",
       "      EstimatedSalary  Exited  \n",
       "0           101348.88       1  \n",
       "1           112542.58       0  \n",
       "2           113931.57       1  \n",
       "3            93826.63       0  \n",
       "4            79084.10       0  \n",
       "...               ...     ...  \n",
       "9995         96270.64       0  \n",
       "9996        101699.77       0  \n",
       "9997         42085.58       1  \n",
       "9998         92888.52       1  \n",
       "9999         38190.78       0  \n",
       "\n",
       "[10000 rows x 14 columns]"
      ]
     },
     "execution_count": 2,
     "metadata": {},
     "output_type": "execute_result"
    }
   ],
   "source": [
    "dataset = pd.read_csv('Churn_Modelling.csv')\n",
    "dataset"
   ]
  },
  {
   "cell_type": "code",
   "execution_count": 3,
   "metadata": {
    "colab": {},
    "colab_type": "code",
    "id": "mKqW5ptuST0K"
   },
   "outputs": [],
   "source": [
    "X = dataset.iloc[:, 3:-1].values\n",
    "y = dataset.iloc[:, -1].values"
   ]
  },
  {
   "cell_type": "code",
   "execution_count": 4,
   "metadata": {
    "colab": {
     "base_uri": "https://localhost:8080/",
     "height": 139
    },
    "colab_type": "code",
    "id": "F8W0vj1_SWpY",
    "outputId": "d9935cda-e84c-4a00-8f1c-3359721f60f8"
   },
   "outputs": [
    {
     "name": "stdout",
     "output_type": "stream",
     "text": [
      "[[619 'France' 'Female' ... 1 1 101348.88]\n",
      " [608 'Spain' 'Female' ... 0 1 112542.58]\n",
      " [502 'France' 'Female' ... 1 0 113931.57]\n",
      " ...\n",
      " [709 'France' 'Female' ... 0 1 42085.58]\n",
      " [772 'Germany' 'Male' ... 1 0 92888.52]\n",
      " [792 'France' 'Female' ... 1 0 38190.78]]\n"
     ]
    }
   ],
   "source": [
    "print(X)"
   ]
  },
  {
   "cell_type": "code",
   "execution_count": 5,
   "metadata": {
    "colab": {
     "base_uri": "https://localhost:8080/",
     "height": 34
    },
    "colab_type": "code",
    "id": "pCBAmXNISjH8",
    "outputId": "447a5cdb-c3b5-4cdf-ff97-7a8631d7f175"
   },
   "outputs": [
    {
     "name": "stdout",
     "output_type": "stream",
     "text": [
      "[1 0 1 ... 1 1 0]\n"
     ]
    }
   ],
   "source": [
    "print(y)"
   ]
  },
  {
   "cell_type": "code",
   "execution_count": 6,
   "metadata": {
    "colab": {},
    "colab_type": "code",
    "id": "49DX5z2cSk9B"
   },
   "outputs": [],
   "source": [
    "from sklearn.preprocessing import LabelEncoder\n",
    "le = LabelEncoder()\n",
    "X[:, 2] = le.fit_transform(X[:, 2])"
   ]
  },
  {
   "cell_type": "code",
   "execution_count": 7,
   "metadata": {
    "colab": {
     "base_uri": "https://localhost:8080/",
     "height": 139
    },
    "colab_type": "code",
    "id": "2GrPoOToSn6o",
    "outputId": "635148e8-474f-4552-843b-ed3727a65828"
   },
   "outputs": [
    {
     "name": "stdout",
     "output_type": "stream",
     "text": [
      "[[619 'France' 0 ... 1 1 101348.88]\n",
      " [608 'Spain' 0 ... 0 1 112542.58]\n",
      " [502 'France' 0 ... 1 0 113931.57]\n",
      " ...\n",
      " [709 'France' 0 ... 0 1 42085.58]\n",
      " [772 'Germany' 1 ... 1 0 92888.52]\n",
      " [792 'France' 0 ... 1 0 38190.78]]\n"
     ]
    }
   ],
   "source": [
    "print(X)"
   ]
  },
  {
   "cell_type": "code",
   "execution_count": 8,
   "metadata": {
    "colab": {
     "base_uri": "https://localhost:8080/",
     "height": 139
    },
    "colab_type": "code",
    "id": "0HGTDGV2SrC6",
    "outputId": "abf33060-8d81-4ac7-88fb-9f63d7c5a209"
   },
   "outputs": [
    {
     "name": "stdout",
     "output_type": "stream",
     "text": [
      "[[1.0 0.0 0.0 ... 1 1 101348.88]\n",
      " [0.0 0.0 1.0 ... 0 1 112542.58]\n",
      " [1.0 0.0 0.0 ... 1 0 113931.57]\n",
      " ...\n",
      " [1.0 0.0 0.0 ... 0 1 42085.58]\n",
      " [0.0 1.0 0.0 ... 1 0 92888.52]\n",
      " [1.0 0.0 0.0 ... 1 0 38190.78]]\n"
     ]
    }
   ],
   "source": [
    "from sklearn.compose import ColumnTransformer\n",
    "from sklearn.preprocessing import OneHotEncoder\n",
    "ct = ColumnTransformer(transformers = [('encoder', OneHotEncoder(), [1])], remainder = 'passthrough')\n",
    "X = np.array(ct.fit_transform(X))\n",
    "print(X)"
   ]
  },
  {
   "cell_type": "code",
   "execution_count": 9,
   "metadata": {
    "colab": {
     "base_uri": "https://localhost:8080/",
     "height": 243
    },
    "colab_type": "code",
    "id": "l5HXIF7xSuEB",
    "outputId": "0216fc09-98ad-41c0-9601-84835aa37d07"
   },
   "outputs": [
    {
     "name": "stdout",
     "output_type": "stream",
     "text": [
      "[[ 0.99720391 -0.57873591 -0.57380915 ...  0.64609167  0.97024255\n",
      "   0.02188649]\n",
      " [-1.00280393 -0.57873591  1.74273971 ... -1.54776799  0.97024255\n",
      "   0.21653375]\n",
      " [ 0.99720391 -0.57873591 -0.57380915 ...  0.64609167 -1.03067011\n",
      "   0.2406869 ]\n",
      " ...\n",
      " [ 0.99720391 -0.57873591 -0.57380915 ... -1.54776799  0.97024255\n",
      "  -1.00864308]\n",
      " [-1.00280393  1.72790383 -0.57380915 ...  0.64609167 -1.03067011\n",
      "  -0.12523071]\n",
      " [ 0.99720391 -0.57873591 -0.57380915 ...  0.64609167 -1.03067011\n",
      "  -1.07636976]]\n"
     ]
    }
   ],
   "source": [
    "from sklearn.preprocessing import StandardScaler\n",
    "sc = StandardScaler()\n",
    "X = sc.fit_transform(X)\n",
    "print(X)"
   ]
  },
  {
   "cell_type": "code",
   "execution_count": 10,
   "metadata": {
    "colab": {},
    "colab_type": "code",
    "id": "yPSBkk7WSxF4"
   },
   "outputs": [],
   "source": [
    "from sklearn.model_selection import train_test_split\n",
    "X_train, X_test, y_train, y_test = train_test_split(X, y, test_size = 0.2, random_state = 0)"
   ]
  },
  {
   "cell_type": "code",
   "execution_count": 11,
   "metadata": {
    "colab": {},
    "colab_type": "code",
    "id": "YFtIHyOcSz4f"
   },
   "outputs": [],
   "source": [
    "ann = tf.keras.models.Sequential()"
   ]
  },
  {
   "cell_type": "code",
   "execution_count": 12,
   "metadata": {
    "colab": {},
    "colab_type": "code",
    "id": "eCVyAXExS4nk"
   },
   "outputs": [],
   "source": [
    "ann.add(tf.keras.layers.Dense(units = 6, activation = 'relu'))\n",
    "ann.add(tf.keras.layers.Dense(units = 6, activation = 'relu'))\n",
    "ann.add(tf.keras.layers.Dense(units = 1, activation = 'sigmoid'))"
   ]
  },
  {
   "cell_type": "code",
   "execution_count": 13,
   "metadata": {
    "colab": {},
    "colab_type": "code",
    "id": "DbOqw4fYS-yP"
   },
   "outputs": [],
   "source": [
    "ann.compile(optimizer = 'adam', loss = 'binary_crossentropy', metrics = ['accuracy'])"
   ]
  },
  {
   "cell_type": "code",
   "execution_count": 14,
   "metadata": {
    "colab": {
     "base_uri": "https://localhost:8080/",
     "height": 1000
    },
    "colab_type": "code",
    "id": "W4sbZnszTA1p",
    "outputId": "db2fed20-158a-4814-9643-6b06656fd941"
   },
   "outputs": [
    {
     "name": "stdout",
     "output_type": "stream",
     "text": [
      "Epoch 1/100\n",
      "250/250 [==============================] - 0s 666us/step - loss: 0.6332 - accuracy: 0.6746\n",
      "Epoch 2/100\n",
      "250/250 [==============================] - 0s 678us/step - loss: 0.4752 - accuracy: 0.8020\n",
      "Epoch 3/100\n",
      "250/250 [==============================] - 0s 674us/step - loss: 0.4391 - accuracy: 0.8112\n",
      "Epoch 4/100\n",
      "250/250 [==============================] - 0s 714us/step - loss: 0.4227 - accuracy: 0.8158\n",
      "Epoch 5/100\n",
      "250/250 [==============================] - 0s 671us/step - loss: 0.4087 - accuracy: 0.8179\n",
      "Epoch 6/100\n",
      "250/250 [==============================] - 0s 670us/step - loss: 0.3946 - accuracy: 0.8269\n",
      "Epoch 7/100\n",
      "250/250 [==============================] - 0s 679us/step - loss: 0.3822 - accuracy: 0.8366\n",
      "Epoch 8/100\n",
      "250/250 [==============================] - 0s 714us/step - loss: 0.3726 - accuracy: 0.8429\n",
      "Epoch 9/100\n",
      "250/250 [==============================] - 0s 666us/step - loss: 0.3663 - accuracy: 0.8447\n",
      "Epoch 10/100\n",
      "250/250 [==============================] - 0s 650us/step - loss: 0.3620 - accuracy: 0.8468\n",
      "Epoch 11/100\n",
      "250/250 [==============================] - 0s 670us/step - loss: 0.3584 - accuracy: 0.8484\n",
      "Epoch 12/100\n",
      "250/250 [==============================] - 0s 671us/step - loss: 0.3556 - accuracy: 0.8501\n",
      "Epoch 13/100\n",
      "250/250 [==============================] - 0s 670us/step - loss: 0.3529 - accuracy: 0.8522\n",
      "Epoch 14/100\n",
      "250/250 [==============================] - 0s 682us/step - loss: 0.3510 - accuracy: 0.8525\n",
      "Epoch 15/100\n",
      "250/250 [==============================] - 0s 674us/step - loss: 0.3496 - accuracy: 0.8547\n",
      "Epoch 16/100\n",
      "250/250 [==============================] - 0s 690us/step - loss: 0.3481 - accuracy: 0.8558\n",
      "Epoch 17/100\n",
      "250/250 [==============================] - 0s 678us/step - loss: 0.3472 - accuracy: 0.8550\n",
      "Epoch 18/100\n",
      "250/250 [==============================] - 0s 678us/step - loss: 0.3460 - accuracy: 0.8551\n",
      "Epoch 19/100\n",
      "250/250 [==============================] - 0s 667us/step - loss: 0.3448 - accuracy: 0.8558\n",
      "Epoch 20/100\n",
      "250/250 [==============================] - 0s 782us/step - loss: 0.3439 - accuracy: 0.8568\n",
      "Epoch 21/100\n",
      "250/250 [==============================] - 0s 866us/step - loss: 0.3436 - accuracy: 0.85760s - loss: 0.3418 - accuracy: 0.85\n",
      "Epoch 22/100\n",
      "250/250 [==============================] - 0s 822us/step - loss: 0.3430 - accuracy: 0.8565\n",
      "Epoch 23/100\n",
      "250/250 [==============================] - 0s 714us/step - loss: 0.3425 - accuracy: 0.8570\n",
      "Epoch 24/100\n",
      "250/250 [==============================] - 0s 679us/step - loss: 0.3421 - accuracy: 0.8589\n",
      "Epoch 25/100\n",
      "250/250 [==============================] - 0s 718us/step - loss: 0.3418 - accuracy: 0.8584\n",
      "Epoch 26/100\n",
      "250/250 [==============================] - 0s 778us/step - loss: 0.3409 - accuracy: 0.8577\n",
      "Epoch 27/100\n",
      "250/250 [==============================] - 0s 878us/step - loss: 0.3407 - accuracy: 0.8596\n",
      "Epoch 28/100\n",
      "250/250 [==============================] - 0s 826us/step - loss: 0.3406 - accuracy: 0.8584\n",
      "Epoch 29/100\n",
      "250/250 [==============================] - 0s 698us/step - loss: 0.3400 - accuracy: 0.8593\n",
      "Epoch 30/100\n",
      "250/250 [==============================] - 0s 667us/step - loss: 0.3400 - accuracy: 0.8587\n",
      "Epoch 31/100\n",
      "250/250 [==============================] - 0s 686us/step - loss: 0.3397 - accuracy: 0.8597\n",
      "Epoch 32/100\n",
      "250/250 [==============================] - 0s 722us/step - loss: 0.3397 - accuracy: 0.8575\n",
      "Epoch 33/100\n",
      "250/250 [==============================] - 0s 722us/step - loss: 0.3394 - accuracy: 0.8574\n",
      "Epoch 34/100\n",
      "250/250 [==============================] - 0s 714us/step - loss: 0.3395 - accuracy: 0.8589\n",
      "Epoch 35/100\n",
      "250/250 [==============================] - 0s 782us/step - loss: 0.3387 - accuracy: 0.8591\n",
      "Epoch 36/100\n",
      "250/250 [==============================] - 0s 850us/step - loss: 0.3389 - accuracy: 0.8583\n",
      "Epoch 37/100\n",
      "250/250 [==============================] - 0s 722us/step - loss: 0.3381 - accuracy: 0.8601\n",
      "Epoch 38/100\n",
      "250/250 [==============================] - 0s 678us/step - loss: 0.3383 - accuracy: 0.8590\n",
      "Epoch 39/100\n",
      "250/250 [==============================] - 0s 714us/step - loss: 0.3376 - accuracy: 0.8616\n",
      "Epoch 40/100\n",
      "250/250 [==============================] - 0s 690us/step - loss: 0.3378 - accuracy: 0.8602\n",
      "Epoch 41/100\n",
      "250/250 [==============================] - 0s 706us/step - loss: 0.3376 - accuracy: 0.8611\n",
      "Epoch 42/100\n",
      "250/250 [==============================] - 0s 822us/step - loss: 0.3373 - accuracy: 0.8609\n",
      "Epoch 43/100\n",
      "250/250 [==============================] - 0s 822us/step - loss: 0.3372 - accuracy: 0.8587\n",
      "Epoch 44/100\n",
      "250/250 [==============================] - 0s 774us/step - loss: 0.3368 - accuracy: 0.8602\n",
      "Epoch 45/100\n",
      "250/250 [==============================] - ETA: 0s - loss: 0.3331 - accuracy: 0.86 - 0s 714us/step - loss: 0.3368 - accuracy: 0.8599\n",
      "Epoch 46/100\n",
      "250/250 [==============================] - 0s 726us/step - loss: 0.3366 - accuracy: 0.8595\n",
      "Epoch 47/100\n",
      "250/250 [==============================] - 0s 862us/step - loss: 0.3364 - accuracy: 0.8606\n",
      "Epoch 48/100\n",
      "250/250 [==============================] - 0s 810us/step - loss: 0.3359 - accuracy: 0.8599\n",
      "Epoch 49/100\n",
      "250/250 [==============================] - 0s 742us/step - loss: 0.3354 - accuracy: 0.8608\n",
      "Epoch 50/100\n",
      "250/250 [==============================] - 0s 738us/step - loss: 0.3356 - accuracy: 0.8610\n",
      "Epoch 51/100\n",
      "250/250 [==============================] - 0s 714us/step - loss: 0.3352 - accuracy: 0.8631\n",
      "Epoch 52/100\n",
      "250/250 [==============================] - 0s 738us/step - loss: 0.3353 - accuracy: 0.8615\n",
      "Epoch 53/100\n",
      "250/250 [==============================] - 0s 595us/step - loss: 0.3349 - accuracy: 0.8611\n",
      "Epoch 54/100\n",
      "250/250 [==============================] - 0s 607us/step - loss: 0.3348 - accuracy: 0.8610\n",
      "Epoch 55/100\n",
      "250/250 [==============================] - 0s 595us/step - loss: 0.3346 - accuracy: 0.8618\n",
      "Epoch 56/100\n",
      "250/250 [==============================] - 0s 566us/step - loss: 0.3346 - accuracy: 0.8609\n",
      "Epoch 57/100\n",
      "250/250 [==============================] - 0s 574us/step - loss: 0.3344 - accuracy: 0.8612\n",
      "Epoch 58/100\n",
      "250/250 [==============================] - 0s 575us/step - loss: 0.3344 - accuracy: 0.8606\n",
      "Epoch 59/100\n",
      "250/250 [==============================] - ETA: 0s - loss: 0.3326 - accuracy: 0.86 - ETA: 0s - loss: 0.3363 - accuracy: 0.86 - ETA: 0s - loss: 0.3319 - accuracy: 0.86 - 0s 810us/step - loss: 0.3344 - accuracy: 0.8601\n",
      "Epoch 60/100\n",
      "250/250 [==============================] - 0s 846us/step - loss: 0.3343 - accuracy: 0.8614\n",
      "Epoch 61/100\n",
      "250/250 [==============================] - 0s 762us/step - loss: 0.3340 - accuracy: 0.8612\n",
      "Epoch 62/100\n",
      "250/250 [==============================] - 0s 694us/step - loss: 0.3343 - accuracy: 0.8614\n",
      "Epoch 63/100\n",
      "250/250 [==============================] - 0s 654us/step - loss: 0.3344 - accuracy: 0.8612\n",
      "Epoch 64/100\n",
      "250/250 [==============================] - 0s 634us/step - loss: 0.3342 - accuracy: 0.8612\n",
      "Epoch 65/100\n",
      "250/250 [==============================] - 0s 650us/step - loss: 0.3341 - accuracy: 0.8612\n",
      "Epoch 66/100\n",
      "250/250 [==============================] - 0s 658us/step - loss: 0.3339 - accuracy: 0.8619\n",
      "Epoch 67/100\n",
      "250/250 [==============================] - 0s 898us/step - loss: 0.3338 - accuracy: 0.8619\n",
      "Epoch 68/100\n",
      "250/250 [==============================] - 0s 910us/step - loss: 0.3338 - accuracy: 0.8621\n",
      "Epoch 69/100\n",
      "250/250 [==============================] - 0s 969us/step - loss: 0.3337 - accuracy: 0.8608\n",
      "Epoch 70/100\n",
      "250/250 [==============================] - 0s 930us/step - loss: 0.3337 - accuracy: 0.8608\n",
      "Epoch 71/100\n",
      "250/250 [==============================] - 0s 866us/step - loss: 0.3337 - accuracy: 0.8615\n",
      "Epoch 72/100\n",
      "250/250 [==============================] - 0s 826us/step - loss: 0.3337 - accuracy: 0.8621\n",
      "Epoch 73/100\n",
      "250/250 [==============================] - 0s 830us/step - loss: 0.3336 - accuracy: 0.8616\n",
      "Epoch 74/100\n",
      "250/250 [==============================] - 0s 814us/step - loss: 0.3336 - accuracy: 0.8615\n",
      "Epoch 75/100\n",
      "250/250 [==============================] - 0s 790us/step - loss: 0.3335 - accuracy: 0.8625\n",
      "Epoch 76/100\n",
      "250/250 [==============================] - 0s 762us/step - loss: 0.3336 - accuracy: 0.8620\n",
      "Epoch 77/100\n"
     ]
    },
    {
     "name": "stdout",
     "output_type": "stream",
     "text": [
      "250/250 [==============================] - 0s 842us/step - loss: 0.3334 - accuracy: 0.8616\n",
      "Epoch 78/100\n",
      "250/250 [==============================] - 0s 802us/step - loss: 0.3335 - accuracy: 0.8624\n",
      "Epoch 79/100\n",
      "250/250 [==============================] - 0s 794us/step - loss: 0.3333 - accuracy: 0.8606\n",
      "Epoch 80/100\n",
      "250/250 [==============================] - 0s 886us/step - loss: 0.3331 - accuracy: 0.8625\n",
      "Epoch 81/100\n",
      "250/250 [==============================] - 0s 762us/step - loss: 0.3332 - accuracy: 0.8634\n",
      "Epoch 82/100\n",
      "250/250 [==============================] - 0s 634us/step - loss: 0.3335 - accuracy: 0.8624\n",
      "Epoch 83/100\n",
      "250/250 [==============================] - 0s 634us/step - loss: 0.3334 - accuracy: 0.8615\n",
      "Epoch 84/100\n",
      "250/250 [==============================] - 0s 626us/step - loss: 0.3330 - accuracy: 0.8618\n",
      "Epoch 85/100\n",
      "250/250 [==============================] - 0s 651us/step - loss: 0.3331 - accuracy: 0.8627\n",
      "Epoch 86/100\n",
      "250/250 [==============================] - 0s 758us/step - loss: 0.3328 - accuracy: 0.8619\n",
      "Epoch 87/100\n",
      "250/250 [==============================] - 0s 730us/step - loss: 0.3333 - accuracy: 0.8610\n",
      "Epoch 88/100\n",
      "250/250 [==============================] - 0s 774us/step - loss: 0.3332 - accuracy: 0.8615\n",
      "Epoch 89/100\n",
      "250/250 [==============================] - 0s 778us/step - loss: 0.3332 - accuracy: 0.8626\n",
      "Epoch 90/100\n",
      "250/250 [==============================] - 0s 770us/step - loss: 0.3330 - accuracy: 0.8622\n",
      "Epoch 91/100\n",
      "250/250 [==============================] - 0s 802us/step - loss: 0.3329 - accuracy: 0.8621\n",
      "Epoch 92/100\n",
      "250/250 [==============================] - 0s 718us/step - loss: 0.3331 - accuracy: 0.8637\n",
      "Epoch 93/100\n",
      "250/250 [==============================] - 0s 726us/step - loss: 0.3327 - accuracy: 0.8626\n",
      "Epoch 94/100\n",
      "250/250 [==============================] - 0s 690us/step - loss: 0.3326 - accuracy: 0.8626\n",
      "Epoch 95/100\n",
      "250/250 [==============================] - 0s 758us/step - loss: 0.3332 - accuracy: 0.8627\n",
      "Epoch 96/100\n",
      "250/250 [==============================] - 0s 702us/step - loss: 0.3327 - accuracy: 0.8626\n",
      "Epoch 97/100\n",
      "250/250 [==============================] - 0s 714us/step - loss: 0.3329 - accuracy: 0.8610\n",
      "Epoch 98/100\n",
      "250/250 [==============================] - 0s 806us/step - loss: 0.3325 - accuracy: 0.8627\n",
      "Epoch 99/100\n",
      "250/250 [==============================] - 0s 786us/step - loss: 0.3329 - accuracy: 0.8629\n",
      "Epoch 100/100\n",
      "250/250 [==============================] - 0s 766us/step - loss: 0.3327 - accuracy: 0.8633\n"
     ]
    },
    {
     "data": {
      "text/plain": [
       "<tensorflow.python.keras.callbacks.History at 0x139c2ba4e80>"
      ]
     },
     "execution_count": 14,
     "metadata": {},
     "output_type": "execute_result"
    }
   ],
   "source": [
    "ann.fit(X_train, y_train, batch_size = 32, epochs = 100)"
   ]
  },
  {
   "cell_type": "code",
   "execution_count": 15,
   "metadata": {
    "colab": {},
    "colab_type": "code",
    "id": "pdoJbUpMTDDC"
   },
   "outputs": [],
   "source": [
    "y_pred = ann.predict(X_test)\n",
    "y_pred = (y_pred > 0.5)"
   ]
  },
  {
   "cell_type": "code",
   "execution_count": 16,
   "metadata": {
    "colab": {
     "base_uri": "https://localhost:8080/",
     "height": 139
    },
    "colab_type": "code",
    "id": "gCArWkFOTOfm",
    "outputId": "9c5d11a3-682c-48f6-937b-d31109597bd5"
   },
   "outputs": [
    {
     "name": "stdout",
     "output_type": "stream",
     "text": [
      "[[0 0]\n",
      " [0 1]\n",
      " [0 0]\n",
      " ...\n",
      " [0 0]\n",
      " [0 0]\n",
      " [0 0]]\n"
     ]
    }
   ],
   "source": [
    "print(np.concatenate((y_pred.reshape(len(y_pred), 1), y_test.reshape(len(y_test), 1)), 1))"
   ]
  },
  {
   "cell_type": "code",
   "execution_count": 17,
   "metadata": {
    "colab": {
     "base_uri": "https://localhost:8080/",
     "height": 52
    },
    "colab_type": "code",
    "id": "O_7sXwklTQTm",
    "outputId": "6c4f8e9e-9d6f-4577-909f-98f6afaf8503"
   },
   "outputs": [
    {
     "name": "stdout",
     "output_type": "stream",
     "text": [
      "[[1513   82]\n",
      " [ 198  207]]\n"
     ]
    }
   ],
   "source": [
    "from sklearn.metrics import confusion_matrix\n",
    "cm = confusion_matrix(y_test, y_pred)\n",
    "print(cm)"
   ]
  },
  {
   "cell_type": "code",
   "execution_count": 18,
   "metadata": {
    "colab": {},
    "colab_type": "code",
    "id": "GhZN-G1HTS9m"
   },
   "outputs": [],
   "source": [
    "acc = (cm[0][0] + cm[1][1]) / 2000"
   ]
  },
  {
   "cell_type": "code",
   "execution_count": 19,
   "metadata": {
    "colab": {
     "base_uri": "https://localhost:8080/",
     "height": 34
    },
    "colab_type": "code",
    "id": "5x68Gfg8Tmdf",
    "outputId": "b2277392-c057-440f-c143-a19f7582d4ee"
   },
   "outputs": [
    {
     "data": {
      "text/plain": [
       "0.86"
      ]
     },
     "execution_count": 19,
     "metadata": {},
     "output_type": "execute_result"
    }
   ],
   "source": [
    "acc"
   ]
  },
  {
   "cell_type": "code",
   "execution_count": 20,
   "metadata": {
    "colab": {
     "base_uri": "https://localhost:8080/",
     "height": 34
    },
    "colab_type": "code",
    "id": "-KnKHrv5TuJE",
    "outputId": "e29548cd-6516-4ccb-a8ea-4043848f8639"
   },
   "outputs": [
    {
     "name": "stdout",
     "output_type": "stream",
     "text": [
      "86.0\n"
     ]
    }
   ],
   "source": [
    "print(round(acc * 100, 2))"
   ]
  },
  {
   "cell_type": "code",
   "execution_count": 21,
   "metadata": {
    "colab": {
     "base_uri": "https://localhost:8080/",
     "height": 34
    },
    "colab_type": "code",
    "id": "UY4qMeJaUZW7",
    "outputId": "9afd875a-ef55-4e3c-fbf2-39547d4b9482"
   },
   "outputs": [
    {
     "data": {
      "text/plain": [
       "80.95"
      ]
     },
     "execution_count": 21,
     "metadata": {},
     "output_type": "execute_result"
    }
   ],
   "source": [
    "sgd = SGDClassifier()\n",
    "sgd.fit(X_train, y_train.ravel())\n",
    "y_pred = sgd.predict(X_test)\n",
    "acc_sgd = round(sgd.score(X_train, y_train) * 100, 2)\n",
    "acc_sgd"
   ]
  },
  {
   "cell_type": "code",
   "execution_count": 22,
   "metadata": {
    "colab": {
     "base_uri": "https://localhost:8080/",
     "height": 34
    },
    "colab_type": "code",
    "id": "ytOrtkpGgHgx",
    "outputId": "9b9d90fc-8cff-453c-f140-1983e8dc8511"
   },
   "outputs": [
    {
     "data": {
      "text/plain": [
       "81.0"
      ]
     },
     "execution_count": 22,
     "metadata": {},
     "output_type": "execute_result"
    }
   ],
   "source": [
    "round(sgd.score(X_test, y_test) * 100, 2)"
   ]
  }
 ],
 "metadata": {
  "colab": {
   "name": "Untitled0.ipynb",
   "provenance": []
  },
  "kernelspec": {
   "display_name": "Python 3",
   "language": "python",
   "name": "python3"
  },
  "language_info": {
   "codemirror_mode": {
    "name": "ipython",
    "version": 3
   },
   "file_extension": ".py",
   "mimetype": "text/x-python",
   "name": "python",
   "nbconvert_exporter": "python",
   "pygments_lexer": "ipython3",
   "version": "3.8.8"
  }
 },
 "nbformat": 4,
 "nbformat_minor": 1
}
