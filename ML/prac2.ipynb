{
 "cells": [
  {
   "cell_type": "markdown",
   "metadata": {},
   "source": [
    "## Perform elementary logical operations in Octave/MATLAB (like OR, AND, Checking for equality, NOT, XOR)."
   ]
  },
  {
   "cell_type": "code",
   "execution_count": 1,
   "metadata": {},
   "outputs": [],
   "source": [
    "x = True\n",
    "y = False"
   ]
  },
  {
   "cell_type": "code",
   "execution_count": 2,
   "metadata": {},
   "outputs": [
    {
     "name": "stdout",
     "output_type": "stream",
     "text": [
      "True or True:  True\n",
      "True or False:  True\n",
      "False or True:  True\n",
      "False or False:  False\n"
     ]
    }
   ],
   "source": [
    "print(\"True or True: \", (x | x))\n",
    "print(\"True or False: \", (x or y))\n",
    "print(\"False or True: \", (y or x))\n",
    "print(\"False or False: \", (y or y))"
   ]
  },
  {
   "cell_type": "code",
   "execution_count": 3,
   "metadata": {},
   "outputs": [
    {
     "name": "stdout",
     "output_type": "stream",
     "text": [
      "True and True:  True\n",
      "True and False:  False\n",
      "False and True:  False\n",
      "False and False:  False\n"
     ]
    }
   ],
   "source": [
    "print(\"True and True: \", (x & x))\n",
    "print(\"True and False: \", (x and y))\n",
    "print(\"False and True: \", (y and x))\n",
    "print(\"False and False: \", (y and y))"
   ]
  },
  {
   "cell_type": "code",
   "execution_count": 4,
   "metadata": {},
   "outputs": [
    {
     "name": "stdout",
     "output_type": "stream",
     "text": [
      "not True:  False\n",
      "not False:  True\n"
     ]
    }
   ],
   "source": [
    "print(\"not True: \", (not x))\n",
    "print(\"not False: \", (not y))"
   ]
  },
  {
   "cell_type": "code",
   "execution_count": 5,
   "metadata": {},
   "outputs": [],
   "source": [
    "var1 = 5\n",
    "var2 = 7\n",
    "var3 = \"5\"\n",
    "var4 = 7"
   ]
  },
  {
   "cell_type": "code",
   "execution_count": 6,
   "metadata": {},
   "outputs": [
    {
     "name": "stdout",
     "output_type": "stream",
     "text": [
      "var1 == var2:  False\n",
      "var1 == var3:  False\n",
      "var1 is var3:  False\n",
      "var2 == var4:  True\n",
      "var2 is var4:  True\n"
     ]
    }
   ],
   "source": [
    "print(\"var1 == var2: \", (var1 == var2))\n",
    "print(\"var1 == var3: \", (var1 == var3))\n",
    "print(\"var1 is var3: \", (var1 is var3))\n",
    "print(\"var2 == var4: \", (var2 == var4))\n",
    "print(\"var2 is var4: \", (var2 is var4))"
   ]
  },
  {
   "cell_type": "code",
   "execution_count": 7,
   "metadata": {},
   "outputs": [
    {
     "name": "stdout",
     "output_type": "stream",
     "text": [
      "True xor True:  False\n",
      "True xor False:  True\n",
      "False xor True:  True\n",
      "False xor False:  False\n"
     ]
    }
   ],
   "source": [
    "print(\"True xor True: \", (x ^ x))\n",
    "print(\"True xor False: \", (x ^ y))\n",
    "print(\"False xor True: \", (y ^ x))\n",
    "print(\"False xor False: \", (y ^ y))"
   ]
  }
 ],
 "metadata": {
  "kernelspec": {
   "display_name": "Python 3",
   "language": "python",
   "name": "python3"
  },
  "language_info": {
   "codemirror_mode": {
    "name": "ipython",
    "version": 3
   },
   "file_extension": ".py",
   "mimetype": "text/x-python",
   "name": "python",
   "nbconvert_exporter": "python",
   "pygments_lexer": "ipython3",
   "version": "3.7.9"
  }
 },
 "nbformat": 4,
 "nbformat_minor": 2
}
