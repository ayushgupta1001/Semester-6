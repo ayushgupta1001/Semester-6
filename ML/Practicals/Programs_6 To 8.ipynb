{
 "cells": [
  {
   "cell_type": "code",
   "execution_count": 1,
   "id": "c8c1182e",
   "metadata": {},
   "outputs": [],
   "source": [
    "import pandas as pd\n",
    "import numpy as np\n",
    "\n",
    "import matplotlib.pyplot as plt\n",
    "import seaborn as sns"
   ]
  },
  {
   "cell_type": "markdown",
   "id": "8759db59",
   "metadata": {},
   "source": [
    "### Question 6: Perform basic operations on matrices (like addition, subtraction, multiplication) and display specific rows or columns of the matrix."
   ]
  },
  {
   "cell_type": "code",
   "execution_count": 2,
   "id": "486fc97d",
   "metadata": {},
   "outputs": [
    {
     "data": {
      "text/plain": [
       "array([[ 2.54838387, -0.82919519,  0.66398758, -0.53536951,  0.4047389 ,\n",
       "        -0.26151919],\n",
       "       [-0.4371668 , -0.48274952,  0.48278398, -1.49687539, -0.57764323,\n",
       "        -0.67113699],\n",
       "       [-1.8710582 ,  0.06299131,  0.97549648, -0.27910551, -1.45716166,\n",
       "         1.01770112],\n",
       "       [-0.64235535, -1.04148695, -0.14124769, -0.16892672,  0.45713334,\n",
       "        -0.6928165 ],\n",
       "       [-0.59102854,  0.65237997, -0.97585969,  0.2440115 ,  1.385594  ,\n",
       "        -0.13417972]])"
      ]
     },
     "execution_count": 2,
     "metadata": {},
     "output_type": "execute_result"
    }
   ],
   "source": [
    "mat1 = np.random.randn(5,6)\n",
    "mat1"
   ]
  },
  {
   "cell_type": "code",
   "execution_count": 3,
   "id": "222efe88",
   "metadata": {},
   "outputs": [
    {
     "data": {
      "text/plain": [
       "array([[-0.02834829,  2.33812791, -1.52719942,  1.43911482, -0.90963788,\n",
       "        -0.16690016],\n",
       "       [ 0.45132297,  0.30778986, -2.26692285, -2.19602785, -1.00296962,\n",
       "        -1.01754282],\n",
       "       [ 2.28727538,  0.85181453,  0.25116341,  0.01087287,  0.67044402,\n",
       "        -0.58329587],\n",
       "       [ 0.54887522,  0.71158094,  0.72976444,  0.06730137,  1.06140143,\n",
       "        -1.03903859],\n",
       "       [ 0.37254853, -1.0710257 , -1.1607353 ,  0.85598249,  0.08898704,\n",
       "        -1.12067356]])"
      ]
     },
     "execution_count": 3,
     "metadata": {},
     "output_type": "execute_result"
    }
   ],
   "source": [
    "mat2 = np.random.randn(5,6)\n",
    "mat2"
   ]
  },
  {
   "cell_type": "markdown",
   "id": "06accf88",
   "metadata": {},
   "source": [
    "#### Addition"
   ]
  },
  {
   "cell_type": "code",
   "execution_count": 4,
   "id": "4979f58c",
   "metadata": {},
   "outputs": [],
   "source": [
    "row_idx = 3\n",
    "col_idx = 3"
   ]
  },
  {
   "cell_type": "code",
   "execution_count": 5,
   "id": "0a15b129",
   "metadata": {},
   "outputs": [
    {
     "data": {
      "text/plain": [
       "array([[ 2.52003558,  1.50893271, -0.86321185,  0.90374532, -0.50489898,\n",
       "        -0.42841935],\n",
       "       [ 0.01415618, -0.17495966, -1.78413887, -3.69290324, -1.58061285,\n",
       "        -1.6886798 ],\n",
       "       [ 0.41621718,  0.91480585,  1.22665989, -0.26823264, -0.78671764,\n",
       "         0.43440525],\n",
       "       [-0.09348012, -0.32990601,  0.58851675, -0.10162535,  1.51853476,\n",
       "        -1.73185508],\n",
       "       [-0.21848002, -0.41864573, -2.13659499,  1.09999399,  1.47458104,\n",
       "        -1.25485327]])"
      ]
     },
     "execution_count": 5,
     "metadata": {},
     "output_type": "execute_result"
    }
   ],
   "source": [
    "result = mat1 + mat2\n",
    "result"
   ]
  },
  {
   "cell_type": "code",
   "execution_count": 6,
   "id": "46d52fc9",
   "metadata": {},
   "outputs": [
    {
     "data": {
      "text/plain": [
       "(array([-0.09348012, -0.32990601,  0.58851675, -0.10162535,  1.51853476,\n",
       "        -1.73185508]),\n",
       " array([-0.09348012, -0.32990601,  0.58851675, -0.10162535,  1.51853476,\n",
       "        -1.73185508]))"
      ]
     },
     "execution_count": 6,
     "metadata": {},
     "output_type": "execute_result"
    }
   ],
   "source": [
    "result[row_idx], result[col_idx]"
   ]
  },
  {
   "cell_type": "markdown",
   "id": "0e9f002f",
   "metadata": {},
   "source": [
    "#### Subtraction"
   ]
  },
  {
   "cell_type": "code",
   "execution_count": 7,
   "id": "65e68f4d",
   "metadata": {},
   "outputs": [],
   "source": [
    "row_idx = 3\n",
    "col_idx = 3"
   ]
  },
  {
   "cell_type": "code",
   "execution_count": 8,
   "id": "baeeb8e5",
   "metadata": {},
   "outputs": [
    {
     "data": {
      "text/plain": [
       "array([[ 2.57673216, -3.1673231 ,  2.191187  , -1.97448433,  1.31437678,\n",
       "        -0.09461903],\n",
       "       [-0.88848977, -0.79053938,  2.74970683,  0.69915246,  0.4253264 ,\n",
       "         0.34640583],\n",
       "       [-4.15833358, -0.78882322,  0.72433308, -0.28997837, -2.12760569,\n",
       "         1.60099699],\n",
       "       [-1.19123057, -1.75306789, -0.87101212, -0.2362281 , -0.60426809,\n",
       "         0.34622209],\n",
       "       [-0.96357707,  1.72340567,  0.18487561, -0.61197098,  1.29660696,\n",
       "         0.98649384]])"
      ]
     },
     "execution_count": 8,
     "metadata": {},
     "output_type": "execute_result"
    }
   ],
   "source": [
    "result = mat1 - mat2\n",
    "result"
   ]
  },
  {
   "cell_type": "code",
   "execution_count": 9,
   "id": "d8c09bea",
   "metadata": {},
   "outputs": [
    {
     "data": {
      "text/plain": [
       "(array([-1.19123057, -1.75306789, -0.87101212, -0.2362281 , -0.60426809,\n",
       "         0.34622209]),\n",
       " array([-1.19123057, -1.75306789, -0.87101212, -0.2362281 , -0.60426809,\n",
       "         0.34622209]))"
      ]
     },
     "execution_count": 9,
     "metadata": {},
     "output_type": "execute_result"
    }
   ],
   "source": [
    "result[row_idx], result[col_idx]"
   ]
  },
  {
   "cell_type": "markdown",
   "id": "a5ba3b6d",
   "metadata": {},
   "source": [
    "#### Element-Wise Multiplcation"
   ]
  },
  {
   "cell_type": "code",
   "execution_count": 10,
   "id": "6180d198",
   "metadata": {},
   "outputs": [],
   "source": [
    "row_idx = 3\n",
    "col_idx = 3"
   ]
  },
  {
   "cell_type": "code",
   "execution_count": 11,
   "id": "75178a88",
   "metadata": {},
   "outputs": [
    {
     "data": {
      "text/plain": [
       "array([[-7.22423206e-02, -1.93876442e+00, -1.01404145e+00,\n",
       "        -7.70458194e-01, -3.68165837e-01,  4.36475936e-02],\n",
       "       [-1.97303419e-01, -1.48585405e-01, -1.09443403e+00,\n",
       "         3.28718005e+00,  5.79358610e-01,  6.82910619e-01],\n",
       "       [-4.27962535e+00,  5.36569150e-02,  2.45009021e-01,\n",
       "        -3.03467667e-03, -9.76945330e-01, -5.93620858e-01],\n",
       "       [-3.52572936e-01, -7.41102266e-01, -1.03077538e-01,\n",
       "        -1.13690005e-02,  4.85201975e-01,  7.19863073e-01],\n",
       "       [-2.20186814e-01, -6.98715712e-01,  1.13271479e+00,\n",
       "         2.08869575e-01,  1.23299913e-01,  1.50371661e-01]])"
      ]
     },
     "execution_count": 11,
     "metadata": {},
     "output_type": "execute_result"
    }
   ],
   "source": [
    "result = mat1 * mat2\n",
    "result"
   ]
  },
  {
   "cell_type": "code",
   "execution_count": 12,
   "id": "383993b5",
   "metadata": {},
   "outputs": [
    {
     "data": {
      "text/plain": [
       "(array([-0.35257294, -0.74110227, -0.10307754, -0.011369  ,  0.48520198,\n",
       "         0.71986307]),\n",
       " array([-0.35257294, -0.74110227, -0.10307754, -0.011369  ,  0.48520198,\n",
       "         0.71986307]))"
      ]
     },
     "execution_count": 12,
     "metadata": {},
     "output_type": "execute_result"
    }
   ],
   "source": [
    "result[row_idx], result[col_idx]"
   ]
  },
  {
   "cell_type": "markdown",
   "id": "835e3a4b",
   "metadata": {},
   "source": [
    "#### Dot Product"
   ]
  },
  {
   "cell_type": "code",
   "execution_count": 13,
   "id": "d41bba41",
   "metadata": {},
   "outputs": [],
   "source": [
    "mat1 = np.random.randn(5,6)\n",
    "mat2 = np.random.randn(6,3)"
   ]
  },
  {
   "cell_type": "code",
   "execution_count": 14,
   "id": "a592b072",
   "metadata": {},
   "outputs": [],
   "source": [
    "row_idx = 3\n",
    "col_idx = 3"
   ]
  },
  {
   "cell_type": "code",
   "execution_count": 15,
   "id": "3c36a4ff",
   "metadata": {},
   "outputs": [
    {
     "data": {
      "text/plain": [
       "array([[-2.31756347,  2.85771943, -2.27225079],\n",
       "       [ 0.71288829, -3.32344166, -0.3388667 ],\n",
       "       [-3.58513188, -2.21326736,  1.64893063],\n",
       "       [ 0.13590822,  1.28265551,  0.60128111],\n",
       "       [-5.02552113,  1.1668343 ,  2.77039091]])"
      ]
     },
     "execution_count": 15,
     "metadata": {},
     "output_type": "execute_result"
    }
   ],
   "source": [
    "result = np.dot(mat1, mat2)\n",
    "result"
   ]
  },
  {
   "cell_type": "code",
   "execution_count": 16,
   "id": "ebe6a2ec",
   "metadata": {},
   "outputs": [
    {
     "data": {
      "text/plain": [
       "(array([0.13590822, 1.28265551, 0.60128111]),\n",
       " array([0.13590822, 1.28265551, 0.60128111]))"
      ]
     },
     "execution_count": 16,
     "metadata": {},
     "output_type": "execute_result"
    }
   ],
   "source": [
    "result[row_idx], result[col_idx]"
   ]
  },
  {
   "cell_type": "markdown",
   "id": "c064ab2b",
   "metadata": {},
   "source": [
    "### Question 7: Perform other matrix operations like converting matrix data to absolute values, taking the negative of matrix values, additing/removing rows/columns from a matrix, finding the maximum or minimum values in a matrix or in a row/column, and finding the sum of some/all elements in a matrix."
   ]
  },
  {
   "cell_type": "code",
   "execution_count": 17,
   "id": "27f65e5a",
   "metadata": {},
   "outputs": [
    {
     "data": {
      "text/plain": [
       "array([[0.33079169, 0.63837429, 0.19719707, 0.12105979],\n",
       "       [0.86649707, 0.67520847, 0.0361197 , 0.75222712],\n",
       "       [0.74095951, 0.7118577 , 0.02993665, 0.55937302],\n",
       "       [0.20066691, 0.06881991, 0.54961696, 0.17739864]])"
      ]
     },
     "execution_count": 17,
     "metadata": {},
     "output_type": "execute_result"
    }
   ],
   "source": [
    "mat = np.random.rand(4,4)\n",
    "mat"
   ]
  },
  {
   "cell_type": "markdown",
   "id": "bd74ae28",
   "metadata": {},
   "source": [
    "#### Absolute Values"
   ]
  },
  {
   "cell_type": "code",
   "execution_count": 18,
   "id": "4c6be509",
   "metadata": {},
   "outputs": [
    {
     "data": {
      "text/plain": [
       "array([[0.33079169, 0.63837429, 0.19719707, 0.12105979],\n",
       "       [0.86649707, 0.67520847, 0.0361197 , 0.75222712],\n",
       "       [0.74095951, 0.7118577 , 0.02993665, 0.55937302],\n",
       "       [0.20066691, 0.06881991, 0.54961696, 0.17739864]])"
      ]
     },
     "execution_count": 18,
     "metadata": {},
     "output_type": "execute_result"
    }
   ],
   "source": [
    "np.abs(mat)"
   ]
  },
  {
   "cell_type": "markdown",
   "id": "1ab9ea02",
   "metadata": {},
   "source": [
    "#### Negative of Matrix Values"
   ]
  },
  {
   "cell_type": "code",
   "execution_count": 19,
   "id": "d8eec539",
   "metadata": {},
   "outputs": [
    {
     "data": {
      "text/plain": [
       "array([[-0.33079169, -0.63837429, -0.19719707, -0.12105979],\n",
       "       [-0.86649707, -0.67520847, -0.0361197 , -0.75222712],\n",
       "       [-0.74095951, -0.7118577 , -0.02993665, -0.55937302],\n",
       "       [-0.20066691, -0.06881991, -0.54961696, -0.17739864]])"
      ]
     },
     "execution_count": 19,
     "metadata": {},
     "output_type": "execute_result"
    }
   ],
   "source": [
    "-mat"
   ]
  },
  {
   "cell_type": "markdown",
   "id": "8164d035",
   "metadata": {},
   "source": [
    "#### Adding Row or Column to matrix"
   ]
  },
  {
   "cell_type": "code",
   "execution_count": 20,
   "id": "f8af8cc7",
   "metadata": {},
   "outputs": [
    {
     "data": {
      "text/plain": [
       "array([[0.33079169, 0.63837429, 0.19719707, 0.12105979],\n",
       "       [0.86649707, 0.67520847, 0.0361197 , 0.75222712],\n",
       "       [0.74095951, 0.7118577 , 0.02993665, 0.55937302],\n",
       "       [0.20066691, 0.06881991, 0.54961696, 0.17739864],\n",
       "       [0.20840994, 0.22542472, 0.12034398, 0.91406337]])"
      ]
     },
     "execution_count": 20,
     "metadata": {},
     "output_type": "execute_result"
    }
   ],
   "source": [
    "# Row\n",
    "row = np.random.rand(1,4)\n",
    "np.vstack([mat,row])"
   ]
  },
  {
   "cell_type": "code",
   "execution_count": 21,
   "id": "9b92933a",
   "metadata": {},
   "outputs": [
    {
     "data": {
      "text/plain": [
       "array([[0.33079169, 0.63837429, 0.19719707, 0.12105979, 0.08364239],\n",
       "       [0.86649707, 0.67520847, 0.0361197 , 0.75222712, 0.32246846],\n",
       "       [0.74095951, 0.7118577 , 0.02993665, 0.55937302, 0.4022525 ],\n",
       "       [0.20066691, 0.06881991, 0.54961696, 0.17739864, 0.92717582]])"
      ]
     },
     "execution_count": 21,
     "metadata": {},
     "output_type": "execute_result"
    }
   ],
   "source": [
    "# Column\n",
    "col = np.random.rand(4,1)\n",
    "np.hstack([mat,col])"
   ]
  },
  {
   "cell_type": "markdown",
   "id": "9c9498a8",
   "metadata": {},
   "source": [
    "#### Deleting Row or Column to matrix"
   ]
  },
  {
   "cell_type": "code",
   "execution_count": 22,
   "id": "94cd86ac",
   "metadata": {},
   "outputs": [],
   "source": [
    "row_idx = 0\n",
    "col_idx = 1"
   ]
  },
  {
   "cell_type": "code",
   "execution_count": 23,
   "id": "e79d0d3a",
   "metadata": {},
   "outputs": [
    {
     "data": {
      "text/plain": [
       "array([[0.86649707, 0.67520847, 0.0361197 , 0.75222712],\n",
       "       [0.74095951, 0.7118577 , 0.02993665, 0.55937302],\n",
       "       [0.20066691, 0.06881991, 0.54961696, 0.17739864]])"
      ]
     },
     "execution_count": 23,
     "metadata": {},
     "output_type": "execute_result"
    }
   ],
   "source": [
    "# Row\n",
    "np.delete(mat, row_idx, axis = 0)"
   ]
  },
  {
   "cell_type": "code",
   "execution_count": 24,
   "id": "1418cdcd",
   "metadata": {},
   "outputs": [
    {
     "data": {
      "text/plain": [
       "array([[0.33079169, 0.19719707, 0.12105979],\n",
       "       [0.86649707, 0.0361197 , 0.75222712],\n",
       "       [0.74095951, 0.02993665, 0.55937302],\n",
       "       [0.20066691, 0.54961696, 0.17739864]])"
      ]
     },
     "execution_count": 24,
     "metadata": {},
     "output_type": "execute_result"
    }
   ],
   "source": [
    "# Column\n",
    "np.delete(mat, col_idx, axis = 1)"
   ]
  },
  {
   "cell_type": "markdown",
   "id": "d05f7155",
   "metadata": {},
   "source": [
    "#### Maximum & Minimum"
   ]
  },
  {
   "cell_type": "code",
   "execution_count": 25,
   "id": "484bccf7",
   "metadata": {},
   "outputs": [
    {
     "data": {
      "text/plain": [
       "(0.8664970708078366, 0.029936651143098736)"
      ]
     },
     "execution_count": 25,
     "metadata": {},
     "output_type": "execute_result"
    }
   ],
   "source": [
    "# All Values\n",
    "np.max(mat), np.min(mat)"
   ]
  },
  {
   "cell_type": "code",
   "execution_count": 26,
   "id": "50f37bed",
   "metadata": {},
   "outputs": [
    {
     "data": {
      "text/plain": [
       "(array([0.86649707, 0.7118577 , 0.54961696, 0.75222712]),\n",
       " array([0.20066691, 0.06881991, 0.02993665, 0.12105979]))"
      ]
     },
     "execution_count": 26,
     "metadata": {},
     "output_type": "execute_result"
    }
   ],
   "source": [
    "# Row-Wise\n",
    "np.max(mat, axis = 0), np.min(mat, axis = 0)"
   ]
  },
  {
   "cell_type": "code",
   "execution_count": 27,
   "id": "3ee2c590",
   "metadata": {},
   "outputs": [
    {
     "data": {
      "text/plain": [
       "(array([0.63837429, 0.86649707, 0.74095951, 0.54961696]),\n",
       " array([0.12105979, 0.0361197 , 0.02993665, 0.06881991]))"
      ]
     },
     "execution_count": 27,
     "metadata": {},
     "output_type": "execute_result"
    }
   ],
   "source": [
    "# Column-Wise\n",
    "np.max(mat, axis = 1), np.min(mat, axis = 1)"
   ]
  },
  {
   "cell_type": "markdown",
   "id": "d95031af",
   "metadata": {},
   "source": [
    "#### Sum of some or all elements in the matrix"
   ]
  },
  {
   "cell_type": "code",
   "execution_count": 28,
   "id": "4da03446",
   "metadata": {
    "scrolled": true
   },
   "outputs": [
    {
     "data": {
      "text/plain": [
       "6.656104502519499"
      ]
     },
     "execution_count": 28,
     "metadata": {},
     "output_type": "execute_result"
    }
   ],
   "source": [
    "# All\n",
    "np.sum(mat)"
   ]
  },
  {
   "cell_type": "code",
   "execution_count": 29,
   "id": "1f418cd9",
   "metadata": {},
   "outputs": [
    {
     "data": {
      "text/plain": [
       "array([2.13891519, 2.09426037, 0.81287038, 1.61005857])"
      ]
     },
     "execution_count": 29,
     "metadata": {},
     "output_type": "execute_result"
    }
   ],
   "source": [
    "# Row-Wise\n",
    "np.sum(mat, axis = 0)"
   ]
  },
  {
   "cell_type": "code",
   "execution_count": 30,
   "id": "83392299",
   "metadata": {},
   "outputs": [
    {
     "data": {
      "text/plain": [
       "array([1.28742284, 2.33005236, 2.04212688, 0.99650242])"
      ]
     },
     "execution_count": 30,
     "metadata": {},
     "output_type": "execute_result"
    }
   ],
   "source": [
    "# Column-Wise\n",
    "np.sum(mat, axis = 1)"
   ]
  },
  {
   "cell_type": "code",
   "execution_count": 31,
   "id": "7f61d2b2",
   "metadata": {},
   "outputs": [
    {
     "data": {
      "text/plain": [
       "2.5108715195895854"
      ]
     },
     "execution_count": 31,
     "metadata": {},
     "output_type": "execute_result"
    }
   ],
   "source": [
    "# Slice\n",
    "row_slice_limit = 2\n",
    "col_slice_limit = 2\n",
    "np.sum(mat[:row_slice_limit, :col_slice_limit])"
   ]
  },
  {
   "cell_type": "markdown",
   "id": "66a4ff95",
   "metadata": {},
   "source": [
    "### Question 8: Create various type of plots/charts like histograms, plot based on sine/cosine function based on data from a matrix. Further label different axes in a plot and data in a plot."
   ]
  },
  {
   "cell_type": "code",
   "execution_count": 32,
   "id": "31687251",
   "metadata": {},
   "outputs": [
    {
     "data": {
      "text/plain": [
       "(100, 3)"
      ]
     },
     "execution_count": 32,
     "metadata": {},
     "output_type": "execute_result"
    }
   ],
   "source": [
    "x = np.concatenate([np.linspace(-10, 10, 100).reshape(-1,1), \n",
    "                    np.linspace(-7, 7, 100).reshape(-1,1),\n",
    "                    np.linspace(-5, 5, 100).reshape(-1,1)],\n",
    "                   axis = 1)\n",
    "x.shape"
   ]
  },
  {
   "cell_type": "code",
   "execution_count": 33,
   "id": "3426a25f",
   "metadata": {},
   "outputs": [],
   "source": [
    "df_x = pd.DataFrame(x, columns = ['x1', 'x2', 'x3'])"
   ]
  },
  {
   "cell_type": "code",
   "execution_count": 34,
   "id": "ed6456fb",
   "metadata": {},
   "outputs": [
    {
     "data": {
      "image/png": "[encoded data removed]",
      "text/plain": [
       "<Figure size 432x288 with 1 Axes>"
      ]
     },
     "metadata": {
      "needs_background": "light"
     },
     "output_type": "display_data"
    }
   ],
   "source": [
    "np.sin(df_x).plot()\n",
    "plt.xlabel('x-axis')\n",
    "plt.ylabel('y-axis')\n",
    "plt.show()"
   ]
  },
  {
   "cell_type": "code",
   "execution_count": 35,
   "id": "10b3d17f",
   "metadata": {},
   "outputs": [
    {
     "data": {
      "image/png": "[encoded data removed]",
      "text/plain": [
       "<Figure size 432x288 with 1 Axes>"
      ]
     },
     "metadata": {
      "needs_background": "light"
     },
     "output_type": "display_data"
    }
   ],
   "source": [
    "sns.histplot(np.sin(df_x))\n",
    "plt.xlabel('x-axis')\n",
    "plt.ylabel('y-axis')\n",
    "plt.show()"
   ]
  }
 ],
 "metadata": {
  "kernelspec": {
   "display_name": "Python 3",
   "language": "python",
   "name": "python3"
  },
  "language_info": {
   "codemirror_mode": {
    "name": "ipython",
    "version": 3
   },
   "file_extension": ".py",
   "mimetype": "text/x-python",
   "name": "python",
   "nbconvert_exporter": "python",
   "pygments_lexer": "ipython3",
   "version": "3.8.8"
  }
 },
 "nbformat": 4,
 "nbformat_minor": 5
}
