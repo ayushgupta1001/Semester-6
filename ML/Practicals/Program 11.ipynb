{
 "cells": [
  {
   "cell_type": "code",
   "execution_count": 1,
   "id": "c8c1182e",
   "metadata": {},
   "outputs": [],
   "source": [
    "import pandas as pd\n",
    "import numpy as np\n",
    "\n",
    "import matplotlib.pyplot as plt\n",
    "import seaborn as sns"
   ]
  },
  {
   "cell_type": "code",
   "execution_count": 2,
   "id": "486fc97d",
   "metadata": {},
   "outputs": [
    {
     "data": {
      "text/plain": [
       "array([[ 0.56461613,  1.6876502 , -1.66521647, -1.4738274 ,  0.46500777,\n",
       "        -0.86085178],\n",
       "       [-0.16300344, -0.03031835,  0.16698367, -1.31662031, -0.10367424,\n",
       "        -0.51047334],\n",
       "       [-0.45200118, -0.72235022,  0.51692959,  0.20071581,  0.52461477,\n",
       "        -0.7056483 ],\n",
       "       [ 0.27684797,  1.16874322,  0.60192473,  0.75204975, -1.37480848,\n",
       "        -0.96074045],\n",
       "       [ 0.6575736 , -0.24834669, -0.11767544,  0.00998743, -0.64246567,\n",
       "        -0.80071226]])"
      ]
     },
     "execution_count": 2,
     "metadata": {},
     "output_type": "execute_result"
    }
   ],
   "source": [
    "mat1 = np.random.randn(5,6)\n",
    "mat1"
   ]
  },
  {
   "cell_type": "code",
   "execution_count": 3,
   "id": "222efe88",
   "metadata": {},
   "outputs": [
    {
     "data": {
      "text/plain": [
       "array([[-0.00281949,  1.31859009, -0.62259313,  0.5209915 ,  0.30181786,\n",
       "        -1.20719921],\n",
       "       [-1.38614957, -2.53908207,  0.16254225,  0.0287618 ,  0.52618107,\n",
       "         0.69672685],\n",
       "       [-0.52165755, -0.95996516, -0.20479601,  0.41425488,  1.24158539,\n",
       "        -1.18645564],\n",
       "       [-1.60489574,  1.31329632,  1.02585305, -0.23917109, -0.69824727,\n",
       "        -0.86440358],\n",
       "       [-1.56155181, -0.01743967, -0.26935375, -1.33492102,  1.26027105,\n",
       "        -1.35894301]])"
      ]
     },
     "execution_count": 3,
     "metadata": {},
     "output_type": "execute_result"
    }
   ],
   "source": [
    "mat2 = np.random.randn(5,6)\n",
    "mat2"
   ]
  },
  {
   "cell_type": "markdown",
   "id": "06accf88",
   "metadata": {},
   "source": [
    "#### Addition"
   ]
  },
  {
   "cell_type": "code",
   "execution_count": 4,
   "id": "4979f58c",
   "metadata": {},
   "outputs": [],
   "source": [
    "row_idx = 3\n",
    "col_idx = 3"
   ]
  },
  {
   "cell_type": "code",
   "execution_count": 5,
   "id": "0a15b129",
   "metadata": {},
   "outputs": [
    {
     "data": {
      "text/plain": [
       "array([[ 0.56179665,  3.00624028, -2.28780961, -0.9528359 ,  0.76682563,\n",
       "        -2.06805099],\n",
       "       [-1.54915301, -2.56940042,  0.32952592, -1.28785851,  0.42250683,\n",
       "         0.18625351],\n",
       "       [-0.97365873, -1.68231538,  0.31213358,  0.61497069,  1.76620016,\n",
       "        -1.89210394],\n",
       "       [-1.32804776,  2.48203954,  1.62777777,  0.51287866, -2.07305575,\n",
       "        -1.82514403],\n",
       "       [-0.90397821, -0.26578636, -0.38702919, -1.32493359,  0.61780538,\n",
       "        -2.15965527]])"
      ]
     },
     "execution_count": 5,
     "metadata": {},
     "output_type": "execute_result"
    }
   ],
   "source": [
    "result = mat1 + mat2\n",
    "result"
   ]
  },
  {
   "cell_type": "code",
   "execution_count": 6,
   "id": "46d52fc9",
   "metadata": {},
   "outputs": [
    {
     "data": {
      "text/plain": [
       "(array([-1.32804776,  2.48203954,  1.62777777,  0.51287866, -2.07305575,\n",
       "        -1.82514403]),\n",
       " array([-1.32804776,  2.48203954,  1.62777777,  0.51287866, -2.07305575,\n",
       "        -1.82514403]))"
      ]
     },
     "execution_count": 6,
     "metadata": {},
     "output_type": "execute_result"
    }
   ],
   "source": [
    "result[row_idx], result[col_idx]"
   ]
  },
  {
   "cell_type": "markdown",
   "id": "0e9f002f",
   "metadata": {},
   "source": [
    "#### Subtraction"
   ]
  },
  {
   "cell_type": "code",
   "execution_count": 7,
   "id": "65e68f4d",
   "metadata": {},
   "outputs": [],
   "source": [
    "row_idx = 3\n",
    "col_idx = 3"
   ]
  },
  {
   "cell_type": "code",
   "execution_count": 8,
   "id": "baeeb8e5",
   "metadata": {},
   "outputs": [
    {
     "data": {
      "text/plain": [
       "array([[ 0.56743562,  0.36906011, -1.04262334, -1.9948189 ,  0.16318991,\n",
       "         0.34634743],\n",
       "       [ 1.22314613,  2.50876371,  0.00444141, -1.3453821 , -0.62985531,\n",
       "        -1.20720019],\n",
       "       [ 0.06965637,  0.23761494,  0.72172559, -0.21353906, -0.71697063,\n",
       "         0.48080734],\n",
       "       [ 1.88174371, -0.14455309, -0.42392832,  0.99122083, -0.67656121,\n",
       "        -0.09633687],\n",
       "       [ 2.21912541, -0.23090701,  0.15167831,  1.34490845, -1.90273672,\n",
       "         0.55823075]])"
      ]
     },
     "execution_count": 8,
     "metadata": {},
     "output_type": "execute_result"
    }
   ],
   "source": [
    "result = mat1 - mat2\n",
    "result"
   ]
  },
  {
   "cell_type": "code",
   "execution_count": 9,
   "id": "d8c09bea",
   "metadata": {},
   "outputs": [
    {
     "data": {
      "text/plain": [
       "(array([ 1.88174371, -0.14455309, -0.42392832,  0.99122083, -0.67656121,\n",
       "        -0.09633687]),\n",
       " array([ 1.88174371, -0.14455309, -0.42392832,  0.99122083, -0.67656121,\n",
       "        -0.09633687]))"
      ]
     },
     "execution_count": 9,
     "metadata": {},
     "output_type": "execute_result"
    }
   ],
   "source": [
    "result[row_idx], result[col_idx]"
   ]
  },
  {
   "cell_type": "markdown",
   "id": "a5ba3b6d",
   "metadata": {},
   "source": [
    "#### Element-Wise Multiplcation"
   ]
  },
  {
   "cell_type": "code",
   "execution_count": 10,
   "id": "6180d198",
   "metadata": {},
   "outputs": [],
   "source": [
    "row_idx = 3\n",
    "col_idx = 3"
   ]
  },
  {
   "cell_type": "code",
   "execution_count": 11,
   "id": "75178a88",
   "metadata": {},
   "outputs": [
    {
     "data": {
      "text/plain": [
       "array([[-1.59192724e-03,  2.22531882e+00,  1.03675234e+00,\n",
       "        -7.67851550e-01,  1.40347652e-01,  1.03921959e+00],\n",
       "       [ 2.25947147e-01,  7.69807874e-02,  2.71419010e-02,\n",
       "        -3.78683681e-02, -5.45514227e-02, -3.55660481e-01],\n",
       "       [ 2.35789827e-01,  6.93431041e-01, -1.05865115e-01,\n",
       "         8.31475036e-02,  6.51354030e-01,  8.37220401e-01],\n",
       "       [-4.44312133e-01,  1.53490617e+00,  6.17486312e-01,\n",
       "        -1.79868556e-01,  9.59956266e-01,  8.30467486e-01],\n",
       "       [-1.02683525e+00,  4.33108483e-03,  3.16963212e-02,\n",
       "        -1.33324282e-02, -8.09680884e-01,  1.08812233e+00]])"
      ]
     },
     "execution_count": 11,
     "metadata": {},
     "output_type": "execute_result"
    }
   ],
   "source": [
    "result = mat1 * mat2\n",
    "result"
   ]
  },
  {
   "cell_type": "code",
   "execution_count": 12,
   "id": "383993b5",
   "metadata": {},
   "outputs": [
    {
     "data": {
      "text/plain": [
       "(array([-0.44431213,  1.53490617,  0.61748631, -0.17986856,  0.95995627,\n",
       "         0.83046749]),\n",
       " array([-0.44431213,  1.53490617,  0.61748631, -0.17986856,  0.95995627,\n",
       "         0.83046749]))"
      ]
     },
     "execution_count": 12,
     "metadata": {},
     "output_type": "execute_result"
    }
   ],
   "source": [
    "result[row_idx], result[col_idx]"
   ]
  },
  {
   "cell_type": "markdown",
   "id": "835e3a4b",
   "metadata": {},
   "source": [
    "#### Dot Product"
   ]
  },
  {
   "cell_type": "code",
   "execution_count": 13,
   "id": "d41bba41",
   "metadata": {},
   "outputs": [],
   "source": [
    "mat1 = np.random.randn(5,6)\n",
    "mat2 = np.random.randn(6,3)"
   ]
  },
  {
   "cell_type": "code",
   "execution_count": 14,
   "id": "a592b072",
   "metadata": {},
   "outputs": [],
   "source": [
    "row_idx = 3\n",
    "col_idx = 3"
   ]
  },
  {
   "cell_type": "code",
   "execution_count": 15,
   "id": "3c36a4ff",
   "metadata": {},
   "outputs": [
    {
     "data": {
      "text/plain": [
       "array([[ 3.90047651,  1.21796643, -0.93203899],\n",
       "       [ 0.95973788,  1.77837808,  0.02557867],\n",
       "       [ 1.87571065,  1.63684185, -0.3644348 ],\n",
       "       [-4.54794355,  0.79807696,  3.08300501],\n",
       "       [-2.95957597, -1.60147712,  1.59628807]])"
      ]
     },
     "execution_count": 15,
     "metadata": {},
     "output_type": "execute_result"
    }
   ],
   "source": [
    "result = np.dot(mat1, mat2)\n",
    "result"
   ]
  },
  {
   "cell_type": "code",
   "execution_count": 16,
   "id": "ebe6a2ec",
   "metadata": {},
   "outputs": [
    {
     "data": {
      "text/plain": [
       "(array([-4.54794355,  0.79807696,  3.08300501]),\n",
       " array([-4.54794355,  0.79807696,  3.08300501]))"
      ]
     },
     "execution_count": 16,
     "metadata": {},
     "output_type": "execute_result"
    }
   ],
   "source": [
    "result[row_idx], result[col_idx]"
   ]
  },
  {
   "cell_type": "markdown",
   "id": "019875bc",
   "metadata": {},
   "source": [
    "#### Transpose"
   ]
  },
  {
   "cell_type": "code",
   "execution_count": 17,
   "id": "6acff1bf",
   "metadata": {},
   "outputs": [
    {
     "data": {
      "text/plain": [
       "array([[ 0.60530693,  1.55407645, -0.19206076,  0.64459734, -0.86061383],\n",
       "       [-2.9257535 , -0.37098433,  2.25183116,  0.4589894 ,  0.26549579],\n",
       "       [-2.08842523, -0.34636098, -0.72278006, -0.13820976,  1.47985196],\n",
       "       [-0.29240015, -0.29667452,  0.90267481, -0.5786054 , -0.52780917],\n",
       "       [-0.54880576,  0.74819457,  0.10270093,  1.95518212, -0.94046091],\n",
       "       [ 1.75803602,  0.84729635, -0.28716993, -0.09109674, -0.86889755]])"
      ]
     },
     "execution_count": 17,
     "metadata": {},
     "output_type": "execute_result"
    }
   ],
   "source": [
    "mat1 = np.random.randn(5,6)\n",
    "result = mat1.T\n",
    "result"
   ]
  }
 ],
 "metadata": {
  "kernelspec": {
   "display_name": "Python 3",
   "language": "python",
   "name": "python3"
  },
  "language_info": {
   "codemirror_mode": {
    "name": "ipython",
    "version": 3
   },
   "file_extension": ".py",
   "mimetype": "text/x-python",
   "name": "python",
   "nbconvert_exporter": "python",
   "pygments_lexer": "ipython3",
   "version": "3.8.8"
  }
 },
 "nbformat": 4,
 "nbformat_minor": 5
}
