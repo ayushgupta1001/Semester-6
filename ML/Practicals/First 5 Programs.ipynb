{
 "cells": [
  {
   "cell_type": "markdown",
   "id": "b3f9c652",
   "metadata": {},
   "source": [
    "### 1. Perform elementary mathematical operations in Octave/MATLAB like addition,multiplication, division and exponentiation."
   ]
  },
  {
   "cell_type": "code",
   "execution_count": 1,
   "id": "1856834c",
   "metadata": {},
   "outputs": [
    {
     "name": "stdout",
     "output_type": "stream",
     "text": [
      "Addition: 8\n",
      "Subtraction: 4\n",
      "Multiplication: 12\n",
      "Division: 3.0\n",
      "Exponentiation: 36\n"
     ]
    }
   ],
   "source": [
    "num1 = 6\n",
    "num2 = 2\n",
    "\n",
    "print(f\"Addition: {num1 + num2}\")\n",
    "print(f\"Subtraction: {num1 - num2}\")\n",
    "print(f\"Multiplication: {num1 * num2}\")\n",
    "print(f\"Division: {num1 / num2}\")\n",
    "print(f\"Exponentiation: {num1 ** num2}\")"
   ]
  },
  {
   "cell_type": "markdown",
   "id": "a26fbfc0",
   "metadata": {},
   "source": [
    "### 2. Perform elementary logical operations in Octave/MATLAB (like OR, AND, Checking forEquality, NOT, XOR)."
   ]
  },
  {
   "cell_type": "code",
   "execution_count": 2,
   "id": "0c1d7570",
   "metadata": {},
   "outputs": [
    {
     "name": "stdout",
     "output_type": "stream",
     "text": [
      "AND Operation: 0\n",
      "OR Operation: 1\n",
      "Equality: False\n",
      "NOT Operation: True\n",
      "XOR Operation: 1\n"
     ]
    }
   ],
   "source": [
    "num1 = 1\n",
    "num2 = 0\n",
    "and_result = num1 & num2\n",
    "print(f\"AND Operation: {and_result}\")\n",
    "or_result = num1 | num2\n",
    "print(f\"OR Operation: {or_result}\")\n",
    "equality_result = num1 == num2\n",
    "print(f\"Equality: {equality_result}\")\n",
    "not_result =  not num2\n",
    "print(f\"NOT Operation: {not_result}\")\n",
    "xor_result = num1 ^ num2\n",
    "print(f\"XOR Operation: {xor_result}\")"
   ]
  },
  {
   "cell_type": "markdown",
   "id": "94b5593c",
   "metadata": {},
   "source": [
    "### 3. Create, initialize and display simple variables and simple strings and use simple formatting for variable."
   ]
  },
  {
   "cell_type": "code",
   "execution_count": 3,
   "id": "6e020f20",
   "metadata": {},
   "outputs": [
    {
     "name": "stdout",
     "output_type": "stream",
     "text": [
      "3\n",
      "4\n",
      "False\n",
      "Python\n",
      "python\n",
      "PYTHON\n",
      "Python\n",
      "True\n",
      "Python\n"
     ]
    }
   ],
   "source": [
    "num1 = 3\n",
    "num2 = 4\n",
    "boolean = False\n",
    "\n",
    "print(num1)\n",
    "print(num2)\n",
    "print(boolean)\n",
    "\n",
    "name = \"Python\"\n",
    "print(name)\n",
    "\n",
    "print(name.lower())\n",
    "print(name.upper())\n",
    "print(name.capitalize())\n",
    "print(name.isalnum())\n",
    "print(name.replace(\"B\", \"b\"))"
   ]
  },
  {
   "cell_type": "markdown",
   "id": "605c8e53",
   "metadata": {},
   "source": [
    "###  4. Create/Define single dimension / multi-dimension arrays, and arrays with specific values like array of all ones, all zeros, array with random values within a range, or a diagonal matrix."
   ]
  },
  {
   "cell_type": "code",
   "execution_count": 4,
   "id": "c09706af",
   "metadata": {},
   "outputs": [],
   "source": [
    "import numpy as np"
   ]
  },
  {
   "cell_type": "code",
   "execution_count": 5,
   "id": "ded66ea3",
   "metadata": {},
   "outputs": [
    {
     "data": {
      "text/plain": [
       "array([1, 2, 4])"
      ]
     },
     "execution_count": 5,
     "metadata": {},
     "output_type": "execute_result"
    }
   ],
   "source": [
    "mat_sin = np.array([1,2,4])\n",
    "mat_sin"
   ]
  },
  {
   "cell_type": "code",
   "execution_count": 6,
   "id": "cb70155f",
   "metadata": {},
   "outputs": [
    {
     "data": {
      "text/plain": [
       "matrix([[1, 2, 3],\n",
       "        [3, 4, 5]])"
      ]
     },
     "execution_count": 6,
     "metadata": {},
     "output_type": "execute_result"
    }
   ],
   "source": [
    "mat_mul = np.matrix([[1,2,3], [3,4,5]])\n",
    "mat_mul"
   ]
  },
  {
   "cell_type": "code",
   "execution_count": 7,
   "id": "ab174494",
   "metadata": {},
   "outputs": [
    {
     "data": {
      "text/plain": [
       "array([[1., 1., 1., 1., 1.],\n",
       "       [1., 1., 1., 1., 1.],\n",
       "       [1., 1., 1., 1., 1.]])"
      ]
     },
     "execution_count": 7,
     "metadata": {},
     "output_type": "execute_result"
    }
   ],
   "source": [
    "np.ones(shape = (3,5))"
   ]
  },
  {
   "cell_type": "code",
   "execution_count": 8,
   "id": "782385d0",
   "metadata": {},
   "outputs": [
    {
     "data": {
      "text/plain": [
       "array([[0., 0., 0., 0., 0.],\n",
       "       [0., 0., 0., 0., 0.],\n",
       "       [0., 0., 0., 0., 0.],\n",
       "       [0., 0., 0., 0., 0.]])"
      ]
     },
     "execution_count": 8,
     "metadata": {},
     "output_type": "execute_result"
    }
   ],
   "source": [
    "np.zeros(shape = (4,5))"
   ]
  },
  {
   "cell_type": "code",
   "execution_count": 9,
   "id": "30c99ce1",
   "metadata": {},
   "outputs": [
    {
     "data": {
      "text/plain": [
       "array([[55, 77, 17, 23, 51],\n",
       "       [16, 26, 98, 11, 93],\n",
       "       [21, 30, 60, 51, 14]])"
      ]
     },
     "execution_count": 9,
     "metadata": {},
     "output_type": "execute_result"
    }
   ],
   "source": [
    "np.random.randint(low = 0,\n",
    "           high = 100, \n",
    "           size = (3,5))"
   ]
  },
  {
   "cell_type": "code",
   "execution_count": 10,
   "id": "2338a02d",
   "metadata": {},
   "outputs": [
    {
     "data": {
      "text/plain": [
       "array([[3, 0, 0],\n",
       "       [0, 4, 0],\n",
       "       [0, 0, 6]])"
      ]
     },
     "execution_count": 10,
     "metadata": {},
     "output_type": "execute_result"
    }
   ],
   "source": [
    "np.diag([3,4,6])"
   ]
  },
  {
   "cell_type": "markdown",
   "id": "61ac241c",
   "metadata": {},
   "source": [
    "### 5. Use command to compute the size of a matrix, size/length of a particular row/column, load data from a text file, store matrix data to a text file, finding out variables and their features in the current scope"
   ]
  },
  {
   "cell_type": "code",
   "execution_count": 11,
   "id": "698250c1",
   "metadata": {
    "scrolled": true
   },
   "outputs": [
    {
     "data": {
      "text/plain": [
       "((3, 5), 3, 5)"
      ]
     },
     "execution_count": 11,
     "metadata": {},
     "output_type": "execute_result"
    }
   ],
   "source": [
    "mat = np.random.randint(low = 0,\n",
    "                        high = 100, \n",
    "                        size = (3,5))\n",
    "mat.shape, mat.shape[0], mat.shape[1]"
   ]
  },
  {
   "cell_type": "code",
   "execution_count": 12,
   "id": "2f32179f",
   "metadata": {},
   "outputs": [],
   "source": [
    "with open(\"output.txt\", \"w\") as file:\n",
    "    np.savetxt(file, tuple(mat))"
   ]
  },
  {
   "cell_type": "code",
   "execution_count": 13,
   "id": "fecf0747",
   "metadata": {},
   "outputs": [
    {
     "data": {
      "text/plain": [
       "array([[98., 57., 71., 97.,  2.],\n",
       "       [78., 34.,  8., 68., 59.],\n",
       "       [ 8., 19., 10., 84., 35.]])"
      ]
     },
     "execution_count": 13,
     "metadata": {},
     "output_type": "execute_result"
    }
   ],
   "source": [
    "with open(\"output.txt\", \"r\") as file:\n",
    "     lines = np.loadtxt(file)\n",
    "lines"
   ]
  }
 ],
 "metadata": {
  "kernelspec": {
   "display_name": "Python 3",
   "language": "python",
   "name": "python3"
  },
  "language_info": {
   "codemirror_mode": {
    "name": "ipython",
    "version": 3
   },
   "file_extension": ".py",
   "mimetype": "text/x-python",
   "name": "python",
   "nbconvert_exporter": "python",
   "pygments_lexer": "ipython3",
   "version": "3.8.8"
  }
 },
 "nbformat": 4,
 "nbformat_minor": 5
}
